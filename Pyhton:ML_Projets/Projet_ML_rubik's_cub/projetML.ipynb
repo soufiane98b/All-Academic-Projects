{
 "cells": [
  {
   "cell_type": "markdown",
   "id": "fluid-israeli",
   "metadata": {},
   "source": [
    "# Machine Learning & Application \n",
    "## 2021-2022\n",
    "# Projet Rubik's cube\n",
    "\n",
    "Le projet porte sur un problème d'apprentissage supervisé. Le problème fait parti des données du [challenge des données](https://challengedata.ens.fr/challenges/20) ENS et s'intitule \"Solve 2x2x2 Rubik's cube\" et est présenté par la société LumenAI. Une [vidéo](https://www.college-de-france.fr/video/stephane-mallat/2019) décrivant le problème se trouve sur le site du collège de France. \n",
    "\n",
    "Les autres challenges sont aussi très intéressants, mais nécessitent plus de connaissances en machine learning (par exemple de l'apprentissage sur des séries temporelles, sur des images, des sons, du texte, etc...). D'où le choix de ce challenge dont les données sont très proches de problèmes sur lesquels on a travaillé.\n",
    "\n",
    "La résolution d'un rubik's cube peut être vu comme un problème d'intelligence artificielle (par exemple en utilisant des techniques de recherches avec des heuristiques). On peut même étudier le graphe du jeu du point de vue de la théorie des graphes et découvrir qu'en fait il existe toujours un chemin relativement court à une solution.\n",
    "\n",
    "ex dans la litérature:\n",
    " * \"The Diameter of the Rubik's Cube Group Is Twenty\", *T. Rokicki, H. Kociemba, M. Davidson, and J. Dethridge*, SIAM Review, 2014, Vol. 56, No. 4 : pp. 645-670.\n",
    " * \"Solving Rubik’s Cube Using Graph Theory\", Khemani C., Doshi J., Duseja J., Shah K., Udmale S., Sambhe V. (2019) in: Verma N., Ghosh A. (eds) Computational Intelligence: Theories, Applications and Future Directions - Volume I. Advances in Intelligent Systems and Computing, vol 798. Springer, Singapore. \n",
    " \n",
    "Ici, on a une base de données qui contient la description de rubik's cubes ainsi que le nombre minimal de coups pour les résoudre. On ne sait pas comment les problèmes ont été générés (est-ce que cela entraine un biais dans les problèmes, est-ce que plusieurs problèmes similaires sont présents dans la base? (Ici par similaire, on pourrait peut être avoir deux problèmes qui apparaissent dans la base, mais en permuttant certaines couleurs, on aurait peut-être exactement le même problème!)). Cependant, on vous demande de constuire un modèle pour nous aider à prédire le nombre de coups minimal pour un problème donné. Ensuite, vous pourriez utiliser ce modèle dans un algorithme de recherche étudié en cours d'IA.\n",
    "\n",
    "On peut le voir comme un problème de regression où il faut deviner le nombre minimal de coups pour résoudre le rubik's cube, ou comme un problème de classification où la classe d'un état du rubik's cube est le nombre minimal de coups pour le résoudre (donc on pourrait avoir au plus 19 classes). Toutes les méthodes que l'on a vu en cours peuvent s'appliquer.\n",
    "\n",
    "## Les données et le site du challenge\n",
    "\n",
    "Le projet s'effectue en binôme. Vous devez ouvrir un compte pour le binôme sur le site du challenge, choisissez de participer seul (le binôme sera un seul participant au challenge), puis inscrivez-vous au challenge du cours *M1 MIAGE Dauphine - PSL - 2021-2022*.\n",
    "\n",
    "Vous aurez accès à trois ensembles: \n",
    " * `x_train` qui contient la description de 1.837.079 différents rubik's cubes. Chaque rubik's cube est représenté par 25 attributs (lisez la description sur le site du challenge).\n",
    " * `y_train` qui contient le nombre minimal de coups pour résoudre chacun des 1.837.079 différents rubik's cubes. \n",
    " Ces données sont vos données d'entrainement.\n",
    " * enfin `x_test` qui contient la description de 1.837.080 nouveaux rubik's cubes. Vous ne connaissez pas le nombre minimal pour chacun de ces problèmes. \n",
    " \n",
    "Pour participer aux challenges, il vous faudra uploader sur le site votre prédiction sur les rubik's cubes du fichier `x_test` et le site du challenge vous donnera un score. Pour ce score, le site utilise l'erreur moyenne absolue: pour les n=1.837.080 exemples du fichier test, on fait la moyenne entre le vrai nombre minimal de coups $y_i$ et votre prédiction $z_i$: \n",
    "$$ \\frac{\\sum_{i=1}^n |y_i-z_i|}{n}$$\n",
    "\n",
    "Malheureusement (pour vous), le site ne vous donnera pas plus d'information que votre score, vous ne pourrez pas savoir quelles sont vos bonnes prédictions et quelles sont vos erreurs. Pire, le site vous permettra d'uploader une prédiction que deux fois par jour!\n",
    "\n",
    "\n",
    "## Soumission et rappot\n",
    "\n",
    "Un des membres du binôme devra remplir le formulaire Forms de l'équipe Teams du cours (onglet General) pour enregistrer les membres du binôme et le login du binôme qui utilisé sur le site du challenge ENS. \n",
    "Avant le **jeudi 2 décembre à 12h** vous devez 1) avoir créé votre compte pour le binôme et inscrit le binôme sur le challenge du cours, et 2) rempli les informations sur le formulaire Forms.\n",
    "\n",
    "Vous pouvez faire le projet seul, mais vous serez évalué comme un binôme. Si vous tenez absolument à former un trinôme, contactez moi par email, mais sachez que dès lors, les attentes seront plus élevées.\n",
    "\n",
    "Le deadline pour le projet sera le **dimanche 20 décembre 23:59**\n",
    "Vous devrez à ce moment là avoir fait trois choses:\n",
    "* avoir rendu un rapport\n",
    "* avoir rendu un notebook jupyter ou collab contenant le code pour générer votre solution\n",
    "* avoir soumis une solution sur le site du challenge ENS.\n",
    "\n",
    "Le notebook et le rapport seront à soumettre sous myCourse.\n",
    "\n",
    "Le rapport est un document **pdf** et devra être un document structuré qui explique vos choix, explique votre solution et donne votre résultat. Ne présentez ni le cours, ni le contexte, seul votre travail est important. Le rapport est de **6** pages maximum au format A4 (sans utiliser une taille de police inférieure strictement à 12). Vous pouvez ajouter une annexe à ce rapport (au format pdf ou sous la forme d'un notebook jupyter), étant entendu que le lecteur n'est pas obligé de lire l'annexe. Votre mission est de proposer un modèle de prédiction pour ce problème, votre rapport doit justifier comment vous avez répondu (complètement ou pas) à cette mission (par exemple, vous pouvez décrire ce que vous avez essayé, ce qui a marché ou non, pourquoi vous avez essayé autre chose...). Une autre façon de décrire ce qu'on attend du rapport est la suivante: votre manageur a donné à plusieurs équipes la même tâche d'apprentissage supervisé. Vous devez lui présenter dans ce rapport des arguments qui justifient la qualité de votre approche et de vos résultats. Votre manageur connait le problème, mais n'est pas forcément un expert du domaine. A vous de le convaincre d'utiliser votre solution! (attention, si vous connaissez aussi les limitations de votre solution, il est bon de les exposer aussi!). \n",
    "\n",
    "L'évaluation portera sur la qualité de votre analyse, même si vos résultats sont peu concluant. Pour caricaturer, un modèle qui gagnerait la compétition sans pouvoir expliquer ce qu'il a fait n'aura pas une bonne note pour le projet du cours (mais bravo, il a gagné la compétition!). Autre caricature, un projet qui applique un seul algorithme et conclue que ça ne fonctionne pas bien n'aura pas non plus une bonne note.\n",
    "\n",
    "Une soutenance sera organisée lors de la première semaine de cours (après les examens). Elle permettra de compléter l'évaluation et de vous donner un retour sur votre travail.\n",
    " Cette soutenance ne demande aucune préparation de votre part. Elle durera une douzaine/quinzaine de minutes par groupe. La soutenance consistera en un échange au sujet de vos résultats et votre rapport. Si la soutenance fait apparaître qu’un des membres n’a pas beaucoup contribué, sa note pourra être revue à la baisse. Egalement, on pourra vous demander de montrer le code et de fournir les résultats que vous avez obtenu lors des exercices d’implémentation des TDs.\n",
    "\n",
    "Ce projet compte pour 40% de la note de l’UE. Il est donc souhaitable que la note corresponde au travail de votre groupe, et non aux conseils d’autres groupes, d’autres étudiants ou d’internet. Si vous utilisez des sources (articles de recherche, posts sur internet, etc...), vous devez mentionnez vos sources dans le rapport (sinon, cela s'appelle du plagiat, et cela peut être puni par un conseil de discipline).\n",
    "\n",
    "Les quelques lignes de code ci-dessous lisent simplement les fichiers sources et affiche la taille des données."
   ]
  },
  {
   "cell_type": "markdown",
   "id": "studied-weekend",
   "metadata": {},
   "source": [
    "# IMORTATION DES LIBRAIRIES"
   ]
  },
  {
   "cell_type": "code",
   "execution_count": 4,
   "id": "resident-microphone",
   "metadata": {},
   "outputs": [],
   "source": [
    "from sklearn.metrics import fbeta_score, make_scorer,accuracy_score\n",
    "from sklearn.linear_model import SGDClassifier\n",
    "from sklearn.ensemble import  VotingClassifier\n",
    "import pandas as pd\n",
    "import numpy as np\n",
    "from sklearn.model_selection import GridSearchCV\n",
    "import matplotlib.pyplot as plt\n",
    "import seaborn as sns\n",
    "import warnings\n",
    "warnings.filterwarnings('ignore')\n",
    "from sklearn.preprocessing import StandardScaler\n",
    "from sklearn.preprocessing import MinMaxScaler\n",
    "from sklearn.linear_model import LinearRegression\n",
    "from sklearn.linear_model import LogisticRegression\n",
    "from sklearn.model_selection import train_test_split\n",
    "from sklearn.feature_selection import SelectKBest\n",
    "from sklearn.feature_selection import f_regression\n",
    "from sklearn.ensemble import RandomForestRegressor \n",
    "from sklearn.ensemble import AdaBoostRegressor\n",
    "from sklearn.neighbors import KNeighborsRegressor\n",
    "from sklearn.metrics import confusion_matrix\n",
    "from sklearn.metrics import mean_squared_error\n",
    "from sklearn.model_selection import cross_val_score\n",
    "from sklearn.tree import DecisionTreeRegressor\n",
    "from sklearn.model_selection import GridSearchCV\n",
    "import sklearn\n",
    "from sklearn.feature_selection import VarianceThreshold\n",
    "from sklearn.preprocessing import PolynomialFeatures\n",
    "from sklearn.linear_model import Ridge\n",
    "from sklearn.linear_model import Lasso\n",
    "from sklearn.preprocessing import LabelEncoder\n",
    "from sklearn.preprocessing import OneHotEncoder\n",
    "from sklearn.preprocessing import OrdinalEncoder\n",
    "from sklearn.preprocessing import LabelBinarizer\n",
    "from sklearn.model_selection import cross_validate\n",
    "from sklearn.model_selection import validation_curve\n",
    "from sklearn.feature_selection import SelectFromModel\n",
    "from itertools import combinations\n",
    "from sklearn.metrics import confusion_matrix\n",
    "from sklearn.metrics import plot_confusion_matrix\n",
    "from sklearn.neighbors import KNeighborsClassifier\n",
    "import matplotlib.pyplot as plt\n",
    "import seaborn as sns\n",
    "import matplotlib as mpl\n",
    "import seaborn as sns\n",
    "from sklearn import preprocessing\n",
    "from sklearn.model_selection import train_test_split\n",
    "from sklearn.neural_network import MLPClassifier\n",
    "from sklearn.ensemble import RandomForestClassifier \n",
    "from sklearn.metrics import mean_absolute_error\n",
    "from sklearn.discriminant_analysis import LinearDiscriminantAnalysis\n",
    "from sklearn.tree import DecisionTreeClassifier\n",
    "import itertools\n",
    "import pandas as pd\n",
    "import numpy as np\n",
    "import matplotlib.pyplot as plt"
   ]
  },
  {
   "cell_type": "markdown",
   "id": "artificial-threat",
   "metadata": {},
   "source": [
    "# 1. OBSERVATION ET PRE-TRAITEMENT DES DONNÉES "
   ]
  },
  {
   "cell_type": "markdown",
   "id": "julian-basin",
   "metadata": {},
   "source": [
    "## 1.1 Observation des données\n"
   ]
  },
  {
   "cell_type": "code",
   "execution_count": 5,
   "id": "acknowledged-battery",
   "metadata": {},
   "outputs": [],
   "source": [
    "X = pd.read_csv(\"train_input.csv\")\n",
    "y = pd.read_csv(\"train_output.csv\")\n",
    "data_test = pd.read_csv(\"test_input.csv\")\n",
    "\n",
    "X=X.drop(['ID'],axis=1)\n",
    "y=y.drop(['ID'],axis=1)\n",
    "\n",
    "data = X\n",
    "data['distance'] = y['distance']\n",
    "X=X.drop(['distance'],axis=1)\n",
    "data_test=data_test.drop(['ID'],axis=1)\n"
   ]
  },
  {
   "cell_type": "code",
   "execution_count": 6,
   "id": "front-poland",
   "metadata": {},
   "outputs": [],
   "source": [
    "data_tmp=data.copy()"
   ]
  },
  {
   "cell_type": "code",
   "execution_count": 7,
   "id": "laughing-italy",
   "metadata": {},
   "outputs": [
    {
     "data": {
      "text/html": [
       "<div>\n",
       "<style scoped>\n",
       "    .dataframe tbody tr th:only-of-type {\n",
       "        vertical-align: middle;\n",
       "    }\n",
       "\n",
       "    .dataframe tbody tr th {\n",
       "        vertical-align: top;\n",
       "    }\n",
       "\n",
       "    .dataframe thead th {\n",
       "        text-align: right;\n",
       "    }\n",
       "</style>\n",
       "<table border=\"1\" class=\"dataframe\">\n",
       "  <thead>\n",
       "    <tr style=\"text-align: right;\">\n",
       "      <th></th>\n",
       "      <th>pos0</th>\n",
       "      <th>pos1</th>\n",
       "      <th>pos2</th>\n",
       "      <th>pos3</th>\n",
       "      <th>pos4</th>\n",
       "      <th>pos5</th>\n",
       "      <th>pos6</th>\n",
       "      <th>pos7</th>\n",
       "      <th>pos8</th>\n",
       "      <th>pos9</th>\n",
       "      <th>...</th>\n",
       "      <th>pos15</th>\n",
       "      <th>pos16</th>\n",
       "      <th>pos17</th>\n",
       "      <th>pos18</th>\n",
       "      <th>pos19</th>\n",
       "      <th>pos20</th>\n",
       "      <th>pos21</th>\n",
       "      <th>pos22</th>\n",
       "      <th>pos23</th>\n",
       "      <th>distance</th>\n",
       "    </tr>\n",
       "  </thead>\n",
       "  <tbody>\n",
       "    <tr>\n",
       "      <th>0</th>\n",
       "      <td>4</td>\n",
       "      <td>1</td>\n",
       "      <td>1</td>\n",
       "      <td>1</td>\n",
       "      <td>6</td>\n",
       "      <td>2</td>\n",
       "      <td>6</td>\n",
       "      <td>6</td>\n",
       "      <td>5</td>\n",
       "      <td>4</td>\n",
       "      <td>...</td>\n",
       "      <td>4</td>\n",
       "      <td>1</td>\n",
       "      <td>3</td>\n",
       "      <td>3</td>\n",
       "      <td>5</td>\n",
       "      <td>2</td>\n",
       "      <td>3</td>\n",
       "      <td>5</td>\n",
       "      <td>3</td>\n",
       "      <td>11</td>\n",
       "    </tr>\n",
       "    <tr>\n",
       "      <th>1</th>\n",
       "      <td>6</td>\n",
       "      <td>5</td>\n",
       "      <td>2</td>\n",
       "      <td>1</td>\n",
       "      <td>2</td>\n",
       "      <td>2</td>\n",
       "      <td>6</td>\n",
       "      <td>3</td>\n",
       "      <td>4</td>\n",
       "      <td>4</td>\n",
       "      <td>...</td>\n",
       "      <td>1</td>\n",
       "      <td>3</td>\n",
       "      <td>1</td>\n",
       "      <td>5</td>\n",
       "      <td>3</td>\n",
       "      <td>5</td>\n",
       "      <td>3</td>\n",
       "      <td>5</td>\n",
       "      <td>2</td>\n",
       "      <td>11</td>\n",
       "    </tr>\n",
       "    <tr>\n",
       "      <th>2</th>\n",
       "      <td>5</td>\n",
       "      <td>3</td>\n",
       "      <td>3</td>\n",
       "      <td>2</td>\n",
       "      <td>3</td>\n",
       "      <td>1</td>\n",
       "      <td>6</td>\n",
       "      <td>5</td>\n",
       "      <td>1</td>\n",
       "      <td>1</td>\n",
       "      <td>...</td>\n",
       "      <td>6</td>\n",
       "      <td>4</td>\n",
       "      <td>4</td>\n",
       "      <td>4</td>\n",
       "      <td>3</td>\n",
       "      <td>2</td>\n",
       "      <td>2</td>\n",
       "      <td>5</td>\n",
       "      <td>2</td>\n",
       "      <td>11</td>\n",
       "    </tr>\n",
       "    <tr>\n",
       "      <th>3</th>\n",
       "      <td>5</td>\n",
       "      <td>5</td>\n",
       "      <td>4</td>\n",
       "      <td>1</td>\n",
       "      <td>2</td>\n",
       "      <td>1</td>\n",
       "      <td>6</td>\n",
       "      <td>1</td>\n",
       "      <td>2</td>\n",
       "      <td>2</td>\n",
       "      <td>...</td>\n",
       "      <td>4</td>\n",
       "      <td>1</td>\n",
       "      <td>6</td>\n",
       "      <td>6</td>\n",
       "      <td>3</td>\n",
       "      <td>6</td>\n",
       "      <td>3</td>\n",
       "      <td>5</td>\n",
       "      <td>5</td>\n",
       "      <td>9</td>\n",
       "    </tr>\n",
       "    <tr>\n",
       "      <th>4</th>\n",
       "      <td>4</td>\n",
       "      <td>2</td>\n",
       "      <td>1</td>\n",
       "      <td>5</td>\n",
       "      <td>1</td>\n",
       "      <td>3</td>\n",
       "      <td>6</td>\n",
       "      <td>6</td>\n",
       "      <td>3</td>\n",
       "      <td>3</td>\n",
       "      <td>...</td>\n",
       "      <td>2</td>\n",
       "      <td>6</td>\n",
       "      <td>6</td>\n",
       "      <td>2</td>\n",
       "      <td>1</td>\n",
       "      <td>2</td>\n",
       "      <td>1</td>\n",
       "      <td>5</td>\n",
       "      <td>5</td>\n",
       "      <td>12</td>\n",
       "    </tr>\n",
       "    <tr>\n",
       "      <th>...</th>\n",
       "      <td>...</td>\n",
       "      <td>...</td>\n",
       "      <td>...</td>\n",
       "      <td>...</td>\n",
       "      <td>...</td>\n",
       "      <td>...</td>\n",
       "      <td>...</td>\n",
       "      <td>...</td>\n",
       "      <td>...</td>\n",
       "      <td>...</td>\n",
       "      <td>...</td>\n",
       "      <td>...</td>\n",
       "      <td>...</td>\n",
       "      <td>...</td>\n",
       "      <td>...</td>\n",
       "      <td>...</td>\n",
       "      <td>...</td>\n",
       "      <td>...</td>\n",
       "      <td>...</td>\n",
       "      <td>...</td>\n",
       "      <td>...</td>\n",
       "    </tr>\n",
       "    <tr>\n",
       "      <th>1837074</th>\n",
       "      <td>2</td>\n",
       "      <td>1</td>\n",
       "      <td>3</td>\n",
       "      <td>3</td>\n",
       "      <td>5</td>\n",
       "      <td>3</td>\n",
       "      <td>6</td>\n",
       "      <td>6</td>\n",
       "      <td>1</td>\n",
       "      <td>5</td>\n",
       "      <td>...</td>\n",
       "      <td>3</td>\n",
       "      <td>5</td>\n",
       "      <td>4</td>\n",
       "      <td>2</td>\n",
       "      <td>6</td>\n",
       "      <td>6</td>\n",
       "      <td>1</td>\n",
       "      <td>5</td>\n",
       "      <td>2</td>\n",
       "      <td>11</td>\n",
       "    </tr>\n",
       "    <tr>\n",
       "      <th>1837075</th>\n",
       "      <td>2</td>\n",
       "      <td>3</td>\n",
       "      <td>3</td>\n",
       "      <td>5</td>\n",
       "      <td>6</td>\n",
       "      <td>4</td>\n",
       "      <td>6</td>\n",
       "      <td>1</td>\n",
       "      <td>3</td>\n",
       "      <td>1</td>\n",
       "      <td>...</td>\n",
       "      <td>5</td>\n",
       "      <td>1</td>\n",
       "      <td>4</td>\n",
       "      <td>6</td>\n",
       "      <td>1</td>\n",
       "      <td>2</td>\n",
       "      <td>6</td>\n",
       "      <td>5</td>\n",
       "      <td>2</td>\n",
       "      <td>9</td>\n",
       "    </tr>\n",
       "    <tr>\n",
       "      <th>1837076</th>\n",
       "      <td>3</td>\n",
       "      <td>3</td>\n",
       "      <td>3</td>\n",
       "      <td>2</td>\n",
       "      <td>2</td>\n",
       "      <td>4</td>\n",
       "      <td>6</td>\n",
       "      <td>6</td>\n",
       "      <td>1</td>\n",
       "      <td>4</td>\n",
       "      <td>...</td>\n",
       "      <td>3</td>\n",
       "      <td>2</td>\n",
       "      <td>6</td>\n",
       "      <td>1</td>\n",
       "      <td>5</td>\n",
       "      <td>1</td>\n",
       "      <td>1</td>\n",
       "      <td>5</td>\n",
       "      <td>2</td>\n",
       "      <td>12</td>\n",
       "    </tr>\n",
       "    <tr>\n",
       "      <th>1837077</th>\n",
       "      <td>5</td>\n",
       "      <td>3</td>\n",
       "      <td>5</td>\n",
       "      <td>1</td>\n",
       "      <td>5</td>\n",
       "      <td>3</td>\n",
       "      <td>6</td>\n",
       "      <td>3</td>\n",
       "      <td>6</td>\n",
       "      <td>4</td>\n",
       "      <td>...</td>\n",
       "      <td>4</td>\n",
       "      <td>2</td>\n",
       "      <td>6</td>\n",
       "      <td>4</td>\n",
       "      <td>2</td>\n",
       "      <td>2</td>\n",
       "      <td>6</td>\n",
       "      <td>5</td>\n",
       "      <td>1</td>\n",
       "      <td>11</td>\n",
       "    </tr>\n",
       "    <tr>\n",
       "      <th>1837078</th>\n",
       "      <td>3</td>\n",
       "      <td>1</td>\n",
       "      <td>4</td>\n",
       "      <td>2</td>\n",
       "      <td>1</td>\n",
       "      <td>5</td>\n",
       "      <td>6</td>\n",
       "      <td>4</td>\n",
       "      <td>6</td>\n",
       "      <td>2</td>\n",
       "      <td>...</td>\n",
       "      <td>1</td>\n",
       "      <td>4</td>\n",
       "      <td>5</td>\n",
       "      <td>1</td>\n",
       "      <td>6</td>\n",
       "      <td>2</td>\n",
       "      <td>2</td>\n",
       "      <td>5</td>\n",
       "      <td>3</td>\n",
       "      <td>11</td>\n",
       "    </tr>\n",
       "  </tbody>\n",
       "</table>\n",
       "<p>1837079 rows × 25 columns</p>\n",
       "</div>"
      ],
      "text/plain": [
       "         pos0  pos1  pos2  pos3  pos4  pos5  pos6  pos7  pos8  pos9  ...  \\\n",
       "0           4     1     1     1     6     2     6     6     5     4  ...   \n",
       "1           6     5     2     1     2     2     6     3     4     4  ...   \n",
       "2           5     3     3     2     3     1     6     5     1     1  ...   \n",
       "3           5     5     4     1     2     1     6     1     2     2  ...   \n",
       "4           4     2     1     5     1     3     6     6     3     3  ...   \n",
       "...       ...   ...   ...   ...   ...   ...   ...   ...   ...   ...  ...   \n",
       "1837074     2     1     3     3     5     3     6     6     1     5  ...   \n",
       "1837075     2     3     3     5     6     4     6     1     3     1  ...   \n",
       "1837076     3     3     3     2     2     4     6     6     1     4  ...   \n",
       "1837077     5     3     5     1     5     3     6     3     6     4  ...   \n",
       "1837078     3     1     4     2     1     5     6     4     6     2  ...   \n",
       "\n",
       "         pos15  pos16  pos17  pos18  pos19  pos20  pos21  pos22  pos23  \\\n",
       "0            4      1      3      3      5      2      3      5      3   \n",
       "1            1      3      1      5      3      5      3      5      2   \n",
       "2            6      4      4      4      3      2      2      5      2   \n",
       "3            4      1      6      6      3      6      3      5      5   \n",
       "4            2      6      6      2      1      2      1      5      5   \n",
       "...        ...    ...    ...    ...    ...    ...    ...    ...    ...   \n",
       "1837074      3      5      4      2      6      6      1      5      2   \n",
       "1837075      5      1      4      6      1      2      6      5      2   \n",
       "1837076      3      2      6      1      5      1      1      5      2   \n",
       "1837077      4      2      6      4      2      2      6      5      1   \n",
       "1837078      1      4      5      1      6      2      2      5      3   \n",
       "\n",
       "         distance  \n",
       "0              11  \n",
       "1              11  \n",
       "2              11  \n",
       "3               9  \n",
       "4              12  \n",
       "...           ...  \n",
       "1837074        11  \n",
       "1837075         9  \n",
       "1837076        12  \n",
       "1837077        11  \n",
       "1837078        11  \n",
       "\n",
       "[1837079 rows x 25 columns]"
      ]
     },
     "execution_count": 7,
     "metadata": {},
     "output_type": "execute_result"
    }
   ],
   "source": [
    "data"
   ]
  },
  {
   "cell_type": "markdown",
   "id": "little-framework",
   "metadata": {},
   "source": [
    "## 1.2 Données manquantes"
   ]
  },
  {
   "cell_type": "code",
   "execution_count": 5,
   "id": "stainless-seattle",
   "metadata": {
    "scrolled": true
   },
   "outputs": [
    {
     "data": {
      "text/plain": [
       "<AxesSubplot:>"
      ]
     },
     "execution_count": 5,
     "metadata": {},
     "output_type": "execute_result"
    },
    {
     "data": {
      "image/png": "[encoded data removed]",
      "text/plain": [
       "<Figure size 576x504 with 1 Axes>"
      ]
     },
     "metadata": {
      "needs_background": "light"
     },
     "output_type": "display_data"
    }
   ],
   "source": [
    "# On constate qu'il n'y a pas de données manquantes\n",
    "plt.figure(figsize=(8, 7))\n",
    "sns.heatmap(data.isnull(), cbar = False , yticklabels = False , cmap = 'viridis',)"
   ]
  },
  {
   "cell_type": "code",
   "execution_count": 6,
   "id": "biblical-hello",
   "metadata": {},
   "outputs": [
    {
     "data": {
      "text/plain": [
       "pos0        0\n",
       "pos1        0\n",
       "pos2        0\n",
       "pos3        0\n",
       "pos4        0\n",
       "pos5        0\n",
       "pos6        0\n",
       "pos7        0\n",
       "pos8        0\n",
       "pos9        0\n",
       "pos10       0\n",
       "pos11       0\n",
       "pos12       0\n",
       "pos13       0\n",
       "pos14       0\n",
       "pos15       0\n",
       "pos16       0\n",
       "pos17       0\n",
       "pos18       0\n",
       "pos19       0\n",
       "pos20       0\n",
       "pos21       0\n",
       "pos22       0\n",
       "pos23       0\n",
       "distance    0\n",
       "dtype: int64"
      ]
     },
     "execution_count": 6,
     "metadata": {},
     "output_type": "execute_result"
    }
   ],
   "source": [
    "data.isnull().sum()"
   ]
  },
  {
   "cell_type": "markdown",
   "id": "italic-pound",
   "metadata": {},
   "source": [
    "## 1.3 Ré-arrangement des colonnes"
   ]
  },
  {
   "cell_type": "code",
   "execution_count": 7,
   "id": "developing-affair",
   "metadata": {},
   "outputs": [
    {
     "data": {
      "text/plain": [
       "[[5, 1, 6, 3, 5, 1, 6, 3, 2, 4, 4, 2, 2, 4, 4, 2, 1, 3, 3, 1, 6, 5, 5, 6],\n",
       " [1, 1, 6, 6, 1, 1, 6, 6, 3, 5, 4, 2, 3, 5, 4, 2, 4, 4, 3, 3, 2, 2, 5, 5],\n",
       " [2, 2, 4, 4, 1, 1, 6, 6, 6, 1, 1, 6, 2, 4, 4, 2, 3, 3, 3, 3, 5, 5, 5, 5]]"
      ]
     },
     "execution_count": 7,
     "metadata": {},
     "output_type": "execute_result"
    }
   ],
   "source": [
    "#Ré-arrangement grace à l'observation des distances égale à 1\n",
    "#Liste des distances égales à 1 avant changement\n",
    "data[data['distance']==1].values[:,:24].tolist()"
   ]
  },
  {
   "cell_type": "code",
   "execution_count": 8,
   "id": "executed-cooler",
   "metadata": {},
   "outputs": [],
   "source": [
    "#####CHANGEMENT DATA \n",
    "\n",
    "#ETAPE 0\n",
    "F1_3=data['pos4'].copy()\n",
    "F1_4=data['pos5'].copy()\n",
    "F2_1=data['pos2'].copy()\n",
    "F2_2=data['pos3'].copy()\n",
    "data['pos2']=F1_3\n",
    "data['pos3']=F1_4\n",
    "data['pos4']=F2_1\n",
    "data['pos5']=F2_2\n",
    "F1_2=data['pos11'].copy()\n",
    "F1_3=data['pos12'].copy()\n",
    "F1_4=data['pos15'].copy()\n",
    "F2_1=data['pos9'].copy()\n",
    "F2_2=data['pos10'].copy()\n",
    "F2_3=data['pos13'].copy()\n",
    "F2_4=data['pos14'].copy()\n",
    "data['pos9']=F1_2\n",
    "data['pos10']=F1_3\n",
    "data['pos11']=F1_4\n",
    "data['pos12']=F2_1\n",
    "data['pos13']=F2_2\n",
    "data['pos14']=F2_3\n",
    "data['pos15']=F2_4\n",
    "#ETAPE 1\n",
    "tmp1=data['pos10'].copy()\n",
    "tmp2=data['pos11'].copy()\n",
    "tmp3=data['pos14'].copy()\n",
    "tmp4=data['pos15'].copy()\n",
    "data['pos10']=tmp2\n",
    "data['pos11']=tmp1\n",
    "data['pos14']=tmp4\n",
    "data['pos15']=tmp3\n",
    "tmp1=data['pos2'].copy()\n",
    "tmp2=data['pos3'].copy()\n",
    "tmp3=data['pos6'].copy()\n",
    "tmp4=data['pos7'].copy()\n",
    "data['pos2']=tmp2\n",
    "data['pos3']=tmp1\n",
    "data['pos6']=tmp4\n",
    "data['pos7']=tmp3\n",
    "#ETAPE 2\n",
    "tmp1=data[['pos4','pos5','pos6','pos7']].copy()\n",
    "tmp2=data[['pos8','pos9','pos10','pos11']].copy()\n",
    "\n",
    "data[['pos4','pos5','pos6','pos7']]=tmp2\n",
    "data[['pos8','pos9','pos10','pos11']]=tmp1\n",
    "\n",
    "\n",
    "#####CHANGEMENT DATA TEST\n",
    "\n",
    "#ETAPE 0\n",
    "F1_3=data_test['pos4'].copy()\n",
    "F1_4=data_test['pos5'].copy()\n",
    "F2_1=data_test['pos2'].copy()\n",
    "F2_2=data_test['pos3'].copy()\n",
    "data_test['pos2']=F1_3\n",
    "data_test['pos3']=F1_4\n",
    "data_test['pos4']=F2_1\n",
    "data_test['pos5']=F2_2\n",
    "F1_2=data_test['pos11'].copy()\n",
    "F1_3=data_test['pos12'].copy()\n",
    "F1_4=data_test['pos15'].copy()\n",
    "F2_1=data_test['pos9'].copy()\n",
    "F2_2=data_test['pos10'].copy()\n",
    "F2_3=data_test['pos13'].copy()\n",
    "F2_4=data_test['pos14'].copy()\n",
    "data_test['pos9']=F1_2\n",
    "data_test['pos10']=F1_3\n",
    "data_test['pos11']=F1_4\n",
    "data_test['pos12']=F2_1\n",
    "data_test['pos13']=F2_2\n",
    "data_test['pos14']=F2_3\n",
    "data_test['pos15']=F2_4\n",
    "#ETAPE 1\n",
    "tmp1=data_test['pos10'].copy()\n",
    "tmp2=data_test['pos11'].copy()\n",
    "tmp3=data_test['pos14'].copy()\n",
    "tmp4=data_test['pos15'].copy()\n",
    "data_test['pos10']=tmp2\n",
    "data_test['pos11']=tmp1\n",
    "data_test['pos14']=tmp4\n",
    "data_test['pos15']=tmp3\n",
    "tmp1=data_test['pos2'].copy()\n",
    "tmp2=data_test['pos3'].copy()\n",
    "tmp3=data_test['pos6'].copy()\n",
    "tmp4=data_test['pos7'].copy()\n",
    "data_test['pos2']=tmp2\n",
    "data_test['pos3']=tmp1\n",
    "data_test['pos6']=tmp4\n",
    "data_test['pos7']=tmp3\n",
    "#ETAPE 2\n",
    "tmp1=data_test[['pos4','pos5','pos6','pos7']].copy()\n",
    "tmp2=data_test[['pos8','pos9','pos10','pos11']].copy()\n",
    "data_test[['pos4','pos5','pos6','pos7']]=tmp2\n",
    "data_test[['pos8','pos9','pos10','pos11']]=tmp1"
   ]
  },
  {
   "cell_type": "code",
   "execution_count": 9,
   "id": "differential-liquid",
   "metadata": {},
   "outputs": [
    {
     "data": {
      "text/plain": [
       "[[5, 1, 1, 5, 2, 2, 2, 2, 6, 3, 3, 6, 4, 4, 4, 4, 1, 3, 3, 1, 6, 5, 5, 6],\n",
       " [1, 1, 1, 1, 3, 2, 2, 3, 6, 6, 6, 6, 5, 4, 4, 5, 4, 4, 3, 3, 2, 2, 5, 5],\n",
       " [2, 2, 1, 1, 6, 6, 2, 2, 4, 4, 6, 6, 1, 1, 4, 4, 3, 3, 3, 3, 5, 5, 5, 5]]"
      ]
     },
     "execution_count": 9,
     "metadata": {},
     "output_type": "execute_result"
    }
   ],
   "source": [
    "#Liste des distances égales à 1 après changement\n",
    "data[data['distance']==1].values[:,:24].tolist()"
   ]
  },
  {
   "cell_type": "markdown",
   "id": "portuguese-luxembourg",
   "metadata": {},
   "source": [
    "## 1.4 Recherche de redondances"
   ]
  },
  {
   "cell_type": "code",
   "execution_count": 10,
   "id": "honey-titanium",
   "metadata": {},
   "outputs": [
    {
     "data": {
      "text/plain": [
       "0"
      ]
     },
     "execution_count": 10,
     "metadata": {},
     "output_type": "execute_result"
    }
   ],
   "source": [
    "# On remarque qu'il n'y a pas deux fois la meme valeur dans la dataFramepo\n",
    "data.duplicated().sum()"
   ]
  },
  {
   "cell_type": "code",
   "execution_count": 11,
   "id": "educated-namibia",
   "metadata": {},
   "outputs": [
    {
     "name": "stdout",
     "output_type": "stream",
     "text": [
      "data_i avec distance =1 :\n",
      "[[5 1 1 5 2 2 2 2 6 3 3 6 4 4 4 4 1 3 3 1 6 5 5 6 1]\n",
      " [1 1 1 1 3 2 2 3 6 6 6 6 5 4 4 5 4 4 3 3 2 2 5 5 1]\n",
      " [2 2 1 1 6 6 2 2 4 4 6 6 1 1 4 4 3 3 3 3 5 5 5 5 1]]\n",
      "\n",
      "\n",
      "\n",
      "existe pas pour ligne  0 , pour data avec distance =  1\n",
      "existe pas pour ligne  1 , pour data avec distance =  1\n",
      "existe pas pour ligne  2 , pour data avec distance =  1\n"
     ]
    }
   ],
   "source": [
    "#                                           -------   Méthode 1  -------\n",
    "\n",
    "# On génère des dataFrame regroupés par distance\n",
    "# data_i[i] nous donne les lignes de notre dataFrame avec distance==i\n",
    "data_i=[[]]\n",
    "for i in range(1,15):\n",
    "    tmp=data[data['distance']==i]\n",
    "    data_i.append(tmp)\n",
    "    \n",
    "# Exemple:\n",
    "print('data_i avec distance =1 :')\n",
    "print(data_i[1].values)\n",
    "print('\\n\\n')\n",
    "\n",
    "# On génere permutation de [1,2,3,4,5,6]\n",
    "def permutations(start,L,end=[]):\n",
    "    if len(start) == 0:\n",
    "        L.append(end)\n",
    "    else:\n",
    "            for i in range(len(start)):\n",
    "                permutations(start[:i] + start[i+1:],L ,end + start[i:i+1])\n",
    "        \n",
    "L=[]       \n",
    "permutations([1,2,3,4,5,6],L)\n",
    "L.pop(0)\n",
    "\n",
    "# Code qui renvoie pour chaque ligne du dataFrame toutes ses permutations de couleurs\n",
    "\n",
    "def permut_ligne(X,L):\n",
    "    faces_similaire=[]\n",
    "    for l in L:\n",
    "        tmp=[]\n",
    "        for x in X:\n",
    "            if x ==1 :\n",
    "                tmp.append(l[0])\n",
    "            if x ==2 :\n",
    "                tmp.append(l[1])\n",
    "            if x ==3 :\n",
    "                tmp.append(l[2])\n",
    "            if x ==4 :\n",
    "                tmp.append(l[3])\n",
    "            if x ==5 :\n",
    "                tmp.append(l[4])\n",
    "            if x ==6 :\n",
    "                tmp.append(l[5])    \n",
    "        faces_similaire.append(tmp)\n",
    "    return faces_similaire\n",
    "\n",
    "\n",
    "\n",
    "\n",
    "def existe_permut(data_i):\n",
    "    R=[]\n",
    "    i=0\n",
    "    X_i_list=data_i.iloc[:,:24].values.tolist()\n",
    "    for Xi in X_i_list :\n",
    "        if(list(Xi) in R):\n",
    "            continue\n",
    "        P=permut_ligne(Xi,L)\n",
    "        for p in P :\n",
    "            if (p in X_i_list):\n",
    "                R.append(p)\n",
    "                print('ici : ',p,'origine : ',Xi)\n",
    "        if(len(R)==0):\n",
    "            print('existe pas pour ligne ',i,', pour data avec distance = ',data_i['distance'].iloc[0])\n",
    "        i=i+1\n",
    "    \n",
    "\n",
    "# on teste l'existence des permutations pour data_i[i] avec i allant de 1 à 14. Ici on prend l'exemple i=1 :\n",
    "existe_permut(data_i[1])\n",
    "\n",
    "\n",
    "\n"
   ]
  },
  {
   "cell_type": "code",
   "execution_count": 12,
   "id": "iraqi-switzerland",
   "metadata": {},
   "outputs": [
    {
     "name": "stdout",
     "output_type": "stream",
     "text": [
      "non trouvé pour ligne  0 dans data avec distance = 1\n"
     ]
    }
   ],
   "source": [
    "#                                           -------   Méthode 2  -------\n",
    "\n",
    "#Ici on genere toutes les facons possibles de retourner un rubiks cube (pour chaque ligne)\n",
    "\n",
    "#on a à la fin 3*15 = 3*(2 parmi 6)=45 combinaison pour chaque ligne\n",
    "#(2 parmi 6) pour savoir quelle est la face du haut et la face du bas\n",
    "# Nb : lorsqu'on a écrit ce code, on ne savait pas encore distinguer les faces opposées,\n",
    "#      donc au lieu de (2 parmi 6)=15, on a 6 possibilités donc en tout pour chaque ligne on a: 3*6=18 possibilités\n",
    "\n",
    "# i fait reference au numéro de la ligne dans X\n",
    "def Permut_changement_pv(i,X):\n",
    "    combi_2_6=list(combinations([0,1,2,3,4,5], 2))\n",
    "    Face = []\n",
    "    Face.append(X.values[i].tolist()[0:4])\n",
    "    Face.append(X.values[i].tolist()[4:8])\n",
    "    Face.append(X.values[i].tolist()[8:12])\n",
    "    Face.append(X.values[i].tolist()[12:16])\n",
    "    Face.append(X.values[i].tolist()[16:20])\n",
    "    Face.append(X.values[i].tolist()[20:24])\n",
    "   ##############################################################################\n",
    "    L1=[]\n",
    "    for i in range(1,4):\n",
    "        for c in combi_2_6:\n",
    "            F_tmp=Face.copy()\n",
    "            F_tmp[c[0]]=list(np.roll(F_tmp[c[0]],i))## on tourne verticalement la face du haut \n",
    "            F_tmp[c[1]]=list(np.roll(F_tmp[c[1]],i))## on tourne verticalement la face du bas\n",
    "            ## On récupère le reste des faces dans une liste\n",
    "            F_reste=[]## les faces à tourner en meme temps horizentalement; il y en a 4\n",
    "            for e in range(0,6):\n",
    "                if(e!=c[0] and e!=c[1]):\n",
    "                    F_reste.append(F_tmp[e])\n",
    "            ## on applatit F_reste\n",
    "            F_reste=list(itertools.chain(*F_reste))\n",
    "            ## on la tourne horizentalement 1 fois\n",
    "            F_reste=list(np.roll(F_reste,4*i)) ## F_reste va de 0 à 15\n",
    "            ## on les remets dans leur places \n",
    "            j=0\n",
    "            for n in range(0,6):\n",
    "                if(n!=c[0] and n!=c[1]):\n",
    "                    F_tmp[n]=F_reste[j:j+4]\n",
    "                    j=j+4\n",
    "            #print(F_tmp)\n",
    "            F_tmp=list(itertools.chain(*F_tmp))\n",
    "            L1.append(F_tmp)\n",
    "    return L1\n",
    "\n",
    "\n",
    "# i fait reference au numéro de la ligne dans data_i et j la distance \n",
    "def existe_Permut_changement_pv(j,i,data_i):\n",
    "    L=Permut_changement_pv(i,data_i[j].iloc[:,:24])\n",
    "    cmpt=0\n",
    "    for l in L:\n",
    "        if(l in data_i[j].values.tolist()):\n",
    "            print('yes, voici la redondance: ',l)\n",
    "            cmpt=cmpt+1\n",
    "    if(cmpt==0):\n",
    "        print('non trouvé pour ligne ',i, 'dans data avec distance =',j)\n",
    "            \n",
    "\n",
    "            \n",
    "#exemple on teste l'existence de toutes les permutations dans la dataFrame avec distance = 1, dans la ligne 0\n",
    "# pour chercher dans tout la data il faut j allant de 1 à 14 et i parcourant data_i[i]\n",
    "existe_Permut_changement_pv(1,0,data_i)"
   ]
  },
  {
   "cell_type": "code",
   "execution_count": 13,
   "id": "palestinian-proportion",
   "metadata": {},
   "outputs": [],
   "source": [
    "#                                           -------   Méthode 1,2 combinées  -------\n",
    "# Il suffit juste de combiner existe_Permut_changement_pv et existe_permut mais on n'a pas trouvé non plus\n",
    "\n"
   ]
  },
  {
   "cell_type": "code",
   "execution_count": 14,
   "id": "built-damages",
   "metadata": {},
   "outputs": [
    {
     "data": {
      "text/plain": [
       "[[3, 1, 1, 3, 2, 2, 2, 2, 6, 5, 5, 6, 4, 4, 4, 4, 6, 3, 3, 6, 1, 5, 5, 1],\n",
       " [1, 1, 1, 1, 5, 2, 2, 5, 6, 6, 6, 6, 3, 4, 4, 3, 2, 2, 3, 3, 4, 4, 5, 5],\n",
       " [6, 6, 1, 1, 4, 4, 2, 2, 1, 1, 6, 6, 2, 2, 4, 4, 3, 3, 3, 3, 5, 5, 5, 5],\n",
       " [4, 4, 1, 1, 1, 1, 2, 2, 2, 2, 6, 6, 6, 6, 4, 4, 3, 3, 3, 3, 5, 5, 5, 5],\n",
       " [1, 1, 1, 1, 4, 2, 2, 4, 6, 6, 6, 6, 2, 4, 4, 2, 5, 5, 3, 3, 3, 3, 5, 5]]"
      ]
     },
     "execution_count": 14,
     "metadata": {},
     "output_type": "execute_result"
    }
   ],
   "source": [
    "# Detecte toutes les lignes dans data test avec distance = 1\n",
    "\n",
    "D_1=[]\n",
    "i=0\n",
    "for d in data_test.values.tolist():\n",
    "    cmpt=0\n",
    "    tmp=[]\n",
    "    for i in range(0,21,4):\n",
    "        if(d[i]==d[i+1]==d[i+2]==d[i+3]):\n",
    "            cmpt=cmpt+1\n",
    "            tmp.append(i)\n",
    "    if(cmpt==2):\n",
    "        cmpt1=0\n",
    "        for j in range(0,21,4):\n",
    "            if(j==tmp[0] or j==tmp[1]):\n",
    "                continue\n",
    "            if((d[j]==d[j+1] and d[j+2]==d[j+3] ) or (d[j]==d[j+3] and d[j+1]==d[j+2] )):\n",
    "                cmpt1=cmpt1+1\n",
    "        #print(cmpt1)\n",
    "        if(cmpt1==4):\n",
    "            D_1.append(d)\n",
    "    i=i+1\n",
    "\n",
    "D_1 "
   ]
  },
  {
   "cell_type": "markdown",
   "id": "acting-program",
   "metadata": {},
   "source": [
    "## 1.5 Ajout de features "
   ]
  },
  {
   "cell_type": "code",
   "execution_count": 27,
   "id": "maritime-slide",
   "metadata": {},
   "outputs": [],
   "source": [
    "def F1(L):\n",
    "    if L[0]==L[1]==L[2]==L[3] :\n",
    "        return 1\n",
    "    return 0\n",
    "\n",
    "def F2(L):\n",
    "    cmpt=[0,0,0,0,0,0]\n",
    "    for l in L:\n",
    "        for i in range(1,7):\n",
    "            if(l==i):\n",
    "                cmpt[i-1]=cmpt[i-1]+1\n",
    "    maxi = max(cmpt)\n",
    "    if maxi==1:\n",
    "        return 0\n",
    "    return maxi\n",
    "        \n",
    "########################\n",
    "Face_F1 = [[],[],[],[],[],[]]\n",
    "Face_F2 = [[],[],[],[],[],[]]\n",
    "for x in np.array(X):\n",
    "    Face_F1[0].append(F1(x[0:4]))\n",
    "    Face_F1[1].append(F1(x[4:8]))\n",
    "    Face_F1[2].append(F1(x[8:12]))\n",
    "    Face_F1[3].append(F1(x[12:16]))\n",
    "    Face_F1[4].append(F1(x[16:20]))\n",
    "    Face_F1[5].append(F1(x[20:24]))\n",
    "    Face_F2[0].append(F2(x[0:4]))\n",
    "    Face_F2[1].append(F2(x[4:8]))\n",
    "    Face_F2[2].append(F2(x[8:12]))\n",
    "    Face_F2[3].append(F2(x[12:16]))\n",
    "    Face_F2[4].append(F2(x[16:20]))\n",
    "    Face_F2[5].append(F2(x[20:24]))   \n",
    "\n",
    "X_F1=X.copy()\n",
    "X_F2=X.copy()\n",
    "\n",
    "X_F1['Face1']=Face_F1[0]\n",
    "X_F1['Face2']=Face_F1[1]\n",
    "X_F1['Face3']=Face_F1[2]\n",
    "X_F1['Face4']=Face_F1[3]\n",
    "X_F1['Face5']=Face_F1[4]\n",
    "X_F1['Face6']=Face_F1[5]\n",
    "################################################\n",
    "X_F2['Face1']=Face_F2[0]\n",
    "X_F2['Face2']=Face_F2[1]\n",
    "X_F2['Face3']=Face_F2[2]\n",
    "X_F2['Face4']=Face_F2[3]\n",
    "X_F2['Face5']=Face_F2[4]\n",
    "X_F2['Face6']=Face_F2[5]\n",
    "################################################    \n",
    "X_F2_faces=X_F2[['Face1','Face2','Face3','Face4','Face5','Face6']]"
   ]
  },
  {
   "cell_type": "code",
   "execution_count": 16,
   "id": "demographic-sample",
   "metadata": {},
   "outputs": [],
   "source": [
    "# On ajoute 6 colonnes pour indiquer si une face est faite: 1, sinon :0\n",
    "#X_F1"
   ]
  },
  {
   "cell_type": "code",
   "execution_count": 17,
   "id": "freelance-obligation",
   "metadata": {},
   "outputs": [],
   "source": [
    "# On ajoute 6 colonnes pour indiquer le nombre de cases similaires sur une face\n",
    "#X_F2"
   ]
  },
  {
   "cell_type": "markdown",
   "id": "crazy-westminster",
   "metadata": {},
   "source": [
    "## 1.6 Traitement de la disparité des classes"
   ]
  },
  {
   "cell_type": "code",
   "execution_count": 18,
   "id": "logical-product",
   "metadata": {},
   "outputs": [
    {
     "name": "stdout",
     "output_type": "stream",
     "text": [
      "1837078\n",
      "1837078\n",
      "1837078\n"
     ]
    }
   ],
   "source": [
    "#On remarque que la colonne 11 , 14 et 22 ont toujous la meme valeurs, donc on les supprime\n",
    "print(data['pos11'].duplicated().sum())\n",
    "print(data['pos14'].duplicated().sum())\n",
    "print(data['pos22'].duplicated().sum())"
   ]
  },
  {
   "cell_type": "code",
   "execution_count": 19,
   "id": "logical-advice",
   "metadata": {},
   "outputs": [],
   "source": [
    "X_drop=pd.DataFrame()\n",
    "X_drop=X.drop(['pos11','pos14','pos22'],axis=1)\n",
    "\n",
    "data_test_drop=pd.DataFrame()\n",
    "data_test_drop=data_test.drop(['pos11','pos14','pos22'],axis=1)\n",
    "\n",
    "data_drop=pd.DataFrame()\n",
    "data_drop=data.drop(['pos11','pos14','pos22'],axis=1)\n",
    "\n",
    "\n",
    "#X_F2_drop=pd.DataFrame()\n",
    "#X_F2_drop=X_F2.drop(['pos11','pos14','pos22'],axis=1)\n",
    "\n"
   ]
  },
  {
   "cell_type": "code",
   "execution_count": 20,
   "id": "particular-polls",
   "metadata": {},
   "outputs": [
    {
     "data": {
      "text/plain": [
       "distance\n",
       "11          675426\n",
       "10          465294\n",
       "12          391268\n",
       "9           180254\n",
       "8            57074\n",
       "13           45140\n",
       "7            16529\n",
       "6             4485\n",
       "5             1128\n",
       "4              267\n",
       "14             138\n",
       "3               60\n",
       "2               13\n",
       "1                3\n",
       "dtype: int64"
      ]
     },
     "execution_count": 20,
     "metadata": {},
     "output_type": "execute_result"
    }
   ],
   "source": [
    "# On remarque la disparité des classes\n",
    "y.value_counts()"
   ]
  },
  {
   "cell_type": "code",
   "execution_count": 21,
   "id": "extended-draft",
   "metadata": {},
   "outputs": [],
   "source": [
    "y1=y.values"
   ]
  },
  {
   "cell_type": "markdown",
   "id": "threaded-cruise",
   "metadata": {},
   "source": [
    "Chaque z constitue un un facon de regrouper nos classes"
   ]
  },
  {
   "cell_type": "code",
   "execution_count": 22,
   "id": "common-retro",
   "metadata": {},
   "outputs": [
    {
     "data": {
      "text/plain": [
       "\"\\nz=[]\\nfor i in range(np.size(y1)):\\n    if y1[i]==10 or y1[i]==12 or y1[i]==8 or y1[i]==6:\\n        z.append(10)\\n    else :\\n        z.append(11)\\nz=np.array(z)\\nz=pd.DataFrame(z,columns=['distance'])    \\n\\n\""
      ]
     },
     "execution_count": 22,
     "metadata": {},
     "output_type": "execute_result"
    }
   ],
   "source": [
    "\"\"\"\n",
    "z=[]\n",
    "for i in range(np.size(y1)):\n",
    "    if y1[i]==10 or y1[i]==12 or y1[i]==8 or y1[i]==6:\n",
    "        z.append(10)\n",
    "    else :\n",
    "        z.append(11)\n",
    "z=np.array(z)\n",
    "z=pd.DataFrame(z,columns=['distance'])    \n",
    "\n",
    "\"\"\"    "
   ]
  },
  {
   "cell_type": "code",
   "execution_count": 23,
   "id": "sexual-manual",
   "metadata": {},
   "outputs": [],
   "source": [
    "#z.value_counts()"
   ]
  },
  {
   "cell_type": "code",
   "execution_count": 24,
   "id": "intense-circle",
   "metadata": {},
   "outputs": [
    {
     "data": {
      "text/plain": [
       "\"\\nz1=[]\\nfor i in range(np.size(y1)):\\n    if y1[i]==10:\\n        z1.append(10)\\n    elif y1[i]==11:\\n        z1.append(11)    \\n    else :\\n        z1.append(12)\\nz1=np.array(z1)\\nz1=pd.DataFrame(z1,columns=['distance'])\\n\""
      ]
     },
     "execution_count": 24,
     "metadata": {},
     "output_type": "execute_result"
    }
   ],
   "source": [
    "\"\"\"\n",
    "z1=[]\n",
    "for i in range(np.size(y1)):\n",
    "    if y1[i]==10:\n",
    "        z1.append(10)\n",
    "    elif y1[i]==11:\n",
    "        z1.append(11)    \n",
    "    else :\n",
    "        z1.append(12)\n",
    "z1=np.array(z1)\n",
    "z1=pd.DataFrame(z1,columns=['distance'])\n",
    "\"\"\"   "
   ]
  },
  {
   "cell_type": "code",
   "execution_count": 25,
   "id": "identical-thesaurus",
   "metadata": {},
   "outputs": [],
   "source": [
    "#z1.value_counts()"
   ]
  },
  {
   "cell_type": "code",
   "execution_count": 26,
   "id": "looking-iceland",
   "metadata": {},
   "outputs": [
    {
     "data": {
      "text/plain": [
       "\"\\nz2=[]\\nfor i in range(np.size(y1)):\\n    if y1[i]==11:\\n        z2.append(11)\\n    elif y1[i]==12 or y1[i]==9:\\n        z2.append(12)    \\n    else :\\n        z2.append(10)\\nz2=np.array(z2)\\nz2=pd.DataFrame(z2,columns=['distance']) \\n\""
      ]
     },
     "execution_count": 26,
     "metadata": {},
     "output_type": "execute_result"
    }
   ],
   "source": [
    "\"\"\"\n",
    "z2=[]\n",
    "for i in range(np.size(y1)):\n",
    "    if y1[i]==11:\n",
    "        z2.append(11)\n",
    "    elif y1[i]==12 or y1[i]==9:\n",
    "        z2.append(12)    \n",
    "    else :\n",
    "        z2.append(10)\n",
    "z2=np.array(z2)\n",
    "z2=pd.DataFrame(z2,columns=['distance']) \n",
    "\"\"\""
   ]
  },
  {
   "cell_type": "code",
   "execution_count": 27,
   "id": "perfect-wayne",
   "metadata": {},
   "outputs": [],
   "source": [
    "#z2.value_counts()"
   ]
  },
  {
   "cell_type": "code",
   "execution_count": 28,
   "id": "electoral-geology",
   "metadata": {},
   "outputs": [
    {
     "data": {
      "text/plain": [
       "\"\\nz3=[]\\nfor i in range(np.size(y1)):\\n    if y1[i]==11 or y1[i]==12:\\n        z3.append(11)   \\n    else :\\n        z3.append(10)\\nz3=np.array(z3)\\nz3=pd.DataFrame(z3,columns=['distance']) \\n\""
      ]
     },
     "execution_count": 28,
     "metadata": {},
     "output_type": "execute_result"
    }
   ],
   "source": [
    "\"\"\"\n",
    "z3=[]\n",
    "for i in range(np.size(y1)):\n",
    "    if y1[i]==11 or y1[i]==12:\n",
    "        z3.append(11)   \n",
    "    else :\n",
    "        z3.append(10)\n",
    "z3=np.array(z3)\n",
    "z3=pd.DataFrame(z3,columns=['distance']) \n",
    "\"\"\""
   ]
  },
  {
   "cell_type": "code",
   "execution_count": 29,
   "id": "dirty-conviction",
   "metadata": {},
   "outputs": [],
   "source": [
    "#z3.value_counts()"
   ]
  },
  {
   "cell_type": "code",
   "execution_count": 30,
   "id": "imposed-flower",
   "metadata": {},
   "outputs": [],
   "source": [
    "z4=[]\n",
    "for i in range(np.size(y1)):\n",
    "    if y1[i]==11 or y1[i]==12 or y1[i]==13 or y1[i]==14:\n",
    "        z4.append(11)   \n",
    "    else :\n",
    "        z4.append(10)\n",
    "z4=np.array(z4)\n",
    "z4=pd.DataFrame(z4,columns=['distance']) "
   ]
  },
  {
   "cell_type": "code",
   "execution_count": 31,
   "id": "proved-corpus",
   "metadata": {
    "scrolled": true
   },
   "outputs": [
    {
     "data": {
      "text/plain": [
       "distance\n",
       "11          1111972\n",
       "10           725107\n",
       "dtype: int64"
      ]
     },
     "execution_count": 31,
     "metadata": {},
     "output_type": "execute_result"
    }
   ],
   "source": [
    "z4.value_counts()"
   ]
  },
  {
   "cell_type": "markdown",
   "id": "smart-rebate",
   "metadata": {},
   "source": [
    "Dans cette partie nous avons choisi z4 comme 1ere découpe car elle donne les meilleurs résultats. Ensuite il faut continuer les découpage par chacune des sous-classes et ré-entrainer notre modèle pour différencier les sous-classes.\n",
    "                    "
   ]
  },
  {
   "cell_type": "code",
   "execution_count": 32,
   "id": "electrical-ceramic",
   "metadata": {},
   "outputs": [],
   "source": [
    "z4_11=[]\n",
    "z4_10=[]\n",
    "for i in range(np.size(y1)):\n",
    "    if y1[i]==11:\n",
    "        z4_11.append(11)   \n",
    "    elif y1[i]==12 or y1[i]==13 or y1[i]==14:\n",
    "        z4_11.append(12)\n",
    "    elif y1[i]==10:\n",
    "        z4_10.append(10)\n",
    "    else:\n",
    "        z4_10.append(9)\n",
    "        \n",
    "z4_11=np.array(z4_11)\n",
    "z4_11=pd.DataFrame(z4_11,columns=['distance']) \n",
    "z4_10=np.array(z4_10)\n",
    "z4_10=pd.DataFrame(z4_10,columns=['distance']) "
   ]
  },
  {
   "cell_type": "code",
   "execution_count": 33,
   "id": "passing-immigration",
   "metadata": {},
   "outputs": [],
   "source": [
    "z4_9=[]\n",
    "z4_12=[]\n",
    "for i in range(np.size(y1)):\n",
    "    if(y1[i]==9):\n",
    "        z4_9.append(9)\n",
    "    elif(y1[i]<9):\n",
    "        z4_9.append(8)\n",
    "    if(y1[i]==12):\n",
    "        z4_12.append(12)\n",
    "    elif(y1[i]>12):\n",
    "        z4_12.append(13)\n",
    "\n",
    "z4_9=np.array(z4_9)\n",
    "z4_9=pd.DataFrame(z4_9,columns=['distance']) \n",
    "z4_12=np.array(z4_12)\n",
    "z4_12=pd.DataFrame(z4_12,columns=['distance']) "
   ]
  },
  {
   "cell_type": "code",
   "execution_count": 34,
   "id": "rising-pharmacy",
   "metadata": {},
   "outputs": [
    {
     "data": {
      "text/plain": [
       "distance\n",
       "11          675426\n",
       "12          436546\n",
       "dtype: int64"
      ]
     },
     "execution_count": 34,
     "metadata": {},
     "output_type": "execute_result"
    }
   ],
   "source": [
    "X_11=X[y['distance']>=11]\n",
    "z4_11.value_counts()"
   ]
  },
  {
   "cell_type": "code",
   "execution_count": 35,
   "id": "thick-render",
   "metadata": {},
   "outputs": [
    {
     "data": {
      "text/plain": [
       "distance\n",
       "12          391268\n",
       "13           45278\n",
       "dtype: int64"
      ]
     },
     "execution_count": 35,
     "metadata": {},
     "output_type": "execute_result"
    }
   ],
   "source": [
    "X_12=X[y['distance']>=12]\n",
    "z4_12.value_counts()"
   ]
  },
  {
   "cell_type": "code",
   "execution_count": 36,
   "id": "familiar-cylinder",
   "metadata": {},
   "outputs": [
    {
     "data": {
      "text/plain": [
       "distance\n",
       "10          465294\n",
       "9           259813\n",
       "dtype: int64"
      ]
     },
     "execution_count": 36,
     "metadata": {},
     "output_type": "execute_result"
    }
   ],
   "source": [
    "X_10=X[y['distance']<=10]\n",
    "z4_10.value_counts()"
   ]
  },
  {
   "cell_type": "code",
   "execution_count": 37,
   "id": "dated-shelf",
   "metadata": {},
   "outputs": [
    {
     "data": {
      "text/plain": [
       "distance\n",
       "9           180254\n",
       "8            79559\n",
       "dtype: int64"
      ]
     },
     "execution_count": 37,
     "metadata": {},
     "output_type": "execute_result"
    }
   ],
   "source": [
    "X_9=X[y['distance']<=9]\n",
    "z4_9.value_counts()"
   ]
  },
  {
   "cell_type": "markdown",
   "id": "stretch-denial",
   "metadata": {},
   "source": [
    "# 2. IMPLEMENTATION DES MODELES DE CLASSIFICATION"
   ]
  },
  {
   "cell_type": "code",
   "execution_count": 101,
   "id": "downtown-springer",
   "metadata": {},
   "outputs": [],
   "source": [
    "X_train, X_test, y_train, y_test = train_test_split(X_c.iloc[:,:7].values, z['distance'].values, test_size=0.5,shuffle=True,random_state=1) \n",
    "X_train1, X_test1, y_train1, y_test1 = train_test_split(X_c.iloc[:,:7].values, y.values, test_size=0.5,shuffle=True,random_state=1) \n"
   ]
  },
  {
   "cell_type": "markdown",
   "id": "brutal-plain",
   "metadata": {},
   "source": [
    "## 2.1 Données non réduites"
   ]
  },
  {
   "cell_type": "markdown",
   "id": "eight-hybrid",
   "metadata": {},
   "source": [
    "## Decoupage "
   ]
  },
  {
   "cell_type": "code",
   "execution_count": 60,
   "id": "ordinary-productivity",
   "metadata": {},
   "outputs": [],
   "source": [
    "#Découpage z4\n",
    "X_train, X_test, y_train, y_test = train_test_split(X.values, z4['distance'].values, test_size=0.5,shuffle=True,random_state=1) \n",
    "\n",
    "#Découpage data set initial\n",
    "X_train1, X_test1, y_train1, y_test1 = train_test_split(X.values, y.values, test_size=0.5,shuffle=True,random_state=1) \n"
   ]
  },
  {
   "cell_type": "markdown",
   "id": "durable-lesbian",
   "metadata": {},
   "source": [
    "## Random Forest\n"
   ]
  },
  {
   "cell_type": "code",
   "execution_count": 61,
   "id": "foster-processing",
   "metadata": {},
   "outputs": [],
   "source": [
    "regressor = RandomForestClassifier(n_jobs=32,random_state=6)\n",
    "regressor1 = RandomForestClassifier(n_jobs=32,random_state=6)\n",
    "\n"
   ]
  },
  {
   "cell_type": "code",
   "execution_count": 62,
   "id": "located-general",
   "metadata": {},
   "outputs": [
    {
     "data": {
      "text/plain": [
       "RandomForestClassifier(n_jobs=32, random_state=6)"
      ]
     },
     "execution_count": 62,
     "metadata": {},
     "output_type": "execute_result"
    }
   ],
   "source": [
    "regressor.fit(X_train,y_train)\n",
    "regressor1.fit(X_train1,y_train1)"
   ]
  },
  {
   "cell_type": "code",
   "execution_count": 63,
   "id": "institutional-modern",
   "metadata": {},
   "outputs": [],
   "source": [
    "y_pred_test=regressor.predict(X_test)\n",
    "y_pred_test1=regressor1.predict(X_test1)"
   ]
  },
  {
   "cell_type": "code",
   "execution_count": 67,
   "id": "further-forth",
   "metadata": {},
   "outputs": [
    {
     "name": "stdout",
     "output_type": "stream",
     "text": [
      "n: 0.4451662420798223\n",
      "1: 1.0586136695190194\n"
     ]
    }
   ],
   "source": [
    "print('n:',mean_absolute_error(y_pred_test,y_test))\n",
    "print('1:',mean_absolute_error(y_pred_test1,y_test1))"
   ]
  },
  {
   "cell_type": "code",
   "execution_count": 98,
   "id": "invalid-dependence",
   "metadata": {},
   "outputs": [
    {
     "data": {
      "text/plain": [
       "<sklearn.metrics._plot.confusion_matrix.ConfusionMatrixDisplay at 0x7ff4f1dc35f8>"
      ]
     },
     "execution_count": 98,
     "metadata": {},
     "output_type": "execute_result"
    },
    {
     "data": {
      "image/png": "[encoded data removed]",
      "text/plain": [
       "<Figure size 432x288 with 2 Axes>"
      ]
     },
     "metadata": {
      "needs_background": "light"
     },
     "output_type": "display_data"
    }
   ],
   "source": [
    "plot_confusion_matrix(regressor,X_test,y_test)"
   ]
  },
  {
   "cell_type": "code",
   "execution_count": 93,
   "id": "miniature-remove",
   "metadata": {},
   "outputs": [
    {
     "name": "stdout",
     "output_type": "stream",
     "text": [
      "11    596634\n",
      "10    203905\n",
      "12    104180\n",
      "9      12121\n",
      "8       1167\n",
      "13       384\n",
      "7        115\n",
      "6         28\n",
      "4          2\n",
      "14         2\n",
      "3          1\n",
      "5          1\n",
      "dtype: int64 \n",
      "\n"
     ]
    }
   ],
   "source": [
    "# Sans regroupement de classes on obtient les predictions suivantes ( suffit juste de sommer values(11)+values(12)\n",
    "# + values(13)+ values(14) )\n",
    "print(pd.DataFrame(y_pred_test1).value_counts(),'\\n')\n",
    "tmp=pd.DataFrame(y_pred_test1).value_counts().tolist()\n"
   ]
  },
  {
   "cell_type": "code",
   "execution_count": 97,
   "id": "fluid-mobile",
   "metadata": {},
   "outputs": [
    {
     "name": "stdout",
     "output_type": "stream",
     "text": [
      "Si on les(y_pred_test1) regroupe selon z4 on obtient\n",
      "11 :  701200\n",
      "10 :  217340\n"
     ]
    }
   ],
   "source": [
    "print(\"Si on les(y_pred_test1) regroupe selon z4 on obtient\")\n",
    "print('11 : ',tmp[0]+tmp[2]+tmp[5]+tmp[9])\n",
    "print('10 : ',sum(tmp)-(tmp[0]+tmp[2]+tmp[5]+tmp[9]))"
   ]
  },
  {
   "cell_type": "code",
   "execution_count": 95,
   "id": "suited-wyoming",
   "metadata": {},
   "outputs": [
    {
     "name": "stdout",
     "output_type": "stream",
     "text": [
      "Avec regroupement de classes on obtient les predictions suivantes\n"
     ]
    },
    {
     "data": {
      "text/plain": [
       "11    739129\n",
       "10    179411\n",
       "dtype: int64"
      ]
     },
     "execution_count": 95,
     "metadata": {},
     "output_type": "execute_result"
    }
   ],
   "source": [
    "print(\"Avec regroupement de classes on obtient les predictions suivantes\")\n",
    "pd.DataFrame(y_pred_test).value_counts()"
   ]
  },
  {
   "cell_type": "code",
   "execution_count": 81,
   "id": "appropriate-spelling",
   "metadata": {
    "scrolled": true
   },
   "outputs": [
    {
     "name": "stdout",
     "output_type": "stream",
     "text": [
      "\n",
      "La vraie prédiction est la suivante regroupé selon z4\n",
      "11    555964\n",
      "10    362576\n",
      "dtype: int64\n"
     ]
    }
   ],
   "source": [
    "print(\"\\nLa vraie prédiction est la suivante regroupé selon z4\")\n",
    "print(pd.DataFrame(y_test).value_counts())"
   ]
  },
  {
   "cell_type": "markdown",
   "id": "engaged-trade",
   "metadata": {},
   "source": [
    "## 2.2  Exploration d'une nouvelle approche : réduction des données sans perte d'information"
   ]
  },
  {
   "cell_type": "markdown",
   "id": "active-surname",
   "metadata": {},
   "source": [
    "Dans cette partie, on va regrouper notre rubik's cube selon un coin fixé."
   ]
  },
  {
   "cell_type": "code",
   "execution_count": 9,
   "id": "south-basket",
   "metadata": {},
   "outputs": [],
   "source": [
    "tmp = data_tmp.copy()\n",
    "data_c = data_tmp.copy()\n",
    "data_c['pos0'] = tmp['pos18']\n",
    "data_c['pos1'] = tmp['pos17']\n",
    "data_c['pos2'] = tmp['pos19']\n",
    "data_c['pos3'] = tmp['pos16']\n",
    "data_c['pos4'] = tmp['pos21']\n",
    "data_c['pos5'] = tmp['pos22']\n",
    "data_c['pos6'] = tmp['pos20']\n",
    "data_c['pos7'] = tmp['pos23']\n",
    "data_c['pos8'] = tmp['pos1']\n",
    "data_c['pos9'] = tmp['pos5']\n",
    "data_c['pos10'] = tmp['pos0']\n",
    "data_c['pos11'] = tmp['pos4']\n",
    "data_c['pos12'] = tmp['pos2']\n",
    "data_c['pos13'] = tmp['pos6']\n",
    "data_c['pos14'] = tmp['pos3']\n",
    "data_c['pos15'] = tmp['pos7']\n",
    "data_c['pos16'] = tmp['pos14']\n",
    "data_c['pos17'] = tmp['pos13']\n",
    "data_c['pos18'] = tmp['pos10']\n",
    "data_c['pos19'] = tmp['pos9']\n",
    "data_c['pos20'] = tmp['pos11']\n",
    "data_c['pos21'] = tmp['pos8']\n",
    "data_c['pos22'] = tmp['pos15']\n",
    "data_c['pos23'] = tmp['pos12']"
   ]
  },
  {
   "cell_type": "code",
   "execution_count": 10,
   "id": "retained-sailing",
   "metadata": {},
   "outputs": [],
   "source": [
    "######################################## Pour le test final\n",
    "tmp = data_test.copy()\n",
    "data_test['pos0'] = tmp['pos18']\n",
    "data_test['pos1'] = tmp['pos17']\n",
    "data_test['pos2'] = tmp['pos19']\n",
    "data_test['pos3'] = tmp['pos16']\n",
    "data_test['pos4'] = tmp['pos21']\n",
    "data_test['pos5'] = tmp['pos22']\n",
    "data_test['pos6'] = tmp['pos20']\n",
    "data_test['pos7'] = tmp['pos23']\n",
    "data_test['pos8'] = tmp['pos1']\n",
    "data_test['pos9'] = tmp['pos5']\n",
    "data_test['pos10'] = tmp['pos0']\n",
    "data_test['pos11'] = tmp['pos4']\n",
    "data_test['pos12'] = tmp['pos2']\n",
    "data_test['pos13'] = tmp['pos6']\n",
    "data_test['pos14'] = tmp['pos3']\n",
    "data_test['pos15'] = tmp['pos7']\n",
    "data_test['pos16'] = tmp['pos14']\n",
    "data_test['pos17'] = tmp['pos13']\n",
    "data_test['pos18'] = tmp['pos10']\n",
    "data_test['pos19'] = tmp['pos9']\n",
    "data_test['pos20'] = tmp['pos11']\n",
    "data_test['pos21'] = tmp['pos8']\n",
    "data_test['pos22'] = tmp['pos15']\n",
    "data_test['pos23'] = tmp['pos12']"
   ]
  },
  {
   "cell_type": "code",
   "execution_count": 11,
   "id": "sublime-korea",
   "metadata": {},
   "outputs": [],
   "source": [
    "tmp = data_c.copy()\n",
    "data_c=pd.DataFrame()\n",
    "data_c['coin1']=tmp[['pos5','pos13','pos16']].apply(tuple , axis=1)\n",
    "data_c['coin2']=tmp[['pos9','pos4','pos17']].apply(tuple , axis=1)\n",
    "data_c['coin3']=tmp[['pos12','pos0','pos18']].apply(tuple , axis=1)\n",
    "data_c['coin4']=tmp[['pos1','pos8','pos19']].apply(tuple , axis=1)\n",
    "data_c['coin5']=tmp[['pos14','pos2','pos20']].apply(tuple , axis=1)\n",
    "data_c['coin6']=tmp[['pos3','pos10','pos21']].apply(tuple , axis=1)\n",
    "data_c['coin7']=tmp[['pos7','pos15','pos22']].apply(tuple , axis=1)\n",
    "data_c['coin8']=tmp[['pos11','pos6','pos23']].apply(tuple , axis=1)\n",
    "\n",
    "data_c['distance']=y\n",
    "X_c=data_c[['coin1','coin2','coin3','coin4','coin5','coin6','coin7','coin8']]"
   ]
  },
  {
   "cell_type": "code",
   "execution_count": 12,
   "id": "following-quilt",
   "metadata": {},
   "outputs": [],
   "source": [
    "######################################## Pour le test final\n",
    "tmp = data_test.copy()\n",
    "data_test=pd.DataFrame()\n",
    "data_test['coin1']=tmp[['pos5','pos13','pos16']].apply(tuple , axis=1)\n",
    "data_test['coin2']=tmp[['pos9','pos4','pos17']].apply(tuple , axis=1)\n",
    "data_test['coin3']=tmp[['pos12','pos0','pos18']].apply(tuple , axis=1)\n",
    "data_test['coin4']=tmp[['pos1','pos8','pos19']].apply(tuple , axis=1)\n",
    "data_test['coin5']=tmp[['pos14','pos2','pos20']].apply(tuple , axis=1)\n",
    "data_test['coin6']=tmp[['pos3','pos10','pos21']].apply(tuple , axis=1)\n",
    "data_test['coin7']=tmp[['pos7','pos15','pos22']].apply(tuple , axis=1)\n",
    "data_test['coin8']=tmp[['pos11','pos6','pos23']].apply(tuple , axis=1)\n",
    "\n"
   ]
  },
  {
   "cell_type": "code",
   "execution_count": 13,
   "id": "authentic-marriage",
   "metadata": {},
   "outputs": [
    {
     "data": {
      "text/html": [
       "<div>\n",
       "<style scoped>\n",
       "    .dataframe tbody tr th:only-of-type {\n",
       "        vertical-align: middle;\n",
       "    }\n",
       "\n",
       "    .dataframe tbody tr th {\n",
       "        vertical-align: top;\n",
       "    }\n",
       "\n",
       "    .dataframe thead th {\n",
       "        text-align: right;\n",
       "    }\n",
       "</style>\n",
       "<table border=\"1\" class=\"dataframe\">\n",
       "  <thead>\n",
       "    <tr style=\"text-align: right;\">\n",
       "      <th></th>\n",
       "      <th>coin1</th>\n",
       "      <th>coin2</th>\n",
       "      <th>coin3</th>\n",
       "      <th>coin4</th>\n",
       "      <th>coin5</th>\n",
       "      <th>coin6</th>\n",
       "      <th>coin7</th>\n",
       "      <th>coin8</th>\n",
       "      <th>distance</th>\n",
       "    </tr>\n",
       "  </thead>\n",
       "  <tbody>\n",
       "    <tr>\n",
       "      <th>0</th>\n",
       "      <td>(5, 6, 4)</td>\n",
       "      <td>(2, 3, 6)</td>\n",
       "      <td>(1, 3, 2)</td>\n",
       "      <td>(3, 1, 4)</td>\n",
       "      <td>(1, 5, 2)</td>\n",
       "      <td>(1, 4, 5)</td>\n",
       "      <td>(3, 6, 4)</td>\n",
       "      <td>(6, 2, 5)</td>\n",
       "      <td>11</td>\n",
       "    </tr>\n",
       "    <tr>\n",
       "      <th>1</th>\n",
       "      <td>(5, 6, 4)</td>\n",
       "      <td>(2, 3, 6)</td>\n",
       "      <td>(2, 5, 1)</td>\n",
       "      <td>(1, 5, 4)</td>\n",
       "      <td>(1, 3, 4)</td>\n",
       "      <td>(3, 6, 4)</td>\n",
       "      <td>(2, 3, 1)</td>\n",
       "      <td>(2, 5, 6)</td>\n",
       "      <td>11</td>\n",
       "    </tr>\n",
       "    <tr>\n",
       "      <th>2</th>\n",
       "      <td>(5, 6, 4)</td>\n",
       "      <td>(1, 2, 5)</td>\n",
       "      <td>(3, 4, 6)</td>\n",
       "      <td>(4, 3, 1)</td>\n",
       "      <td>(2, 3, 1)</td>\n",
       "      <td>(4, 5, 1)</td>\n",
       "      <td>(2, 5, 6)</td>\n",
       "      <td>(3, 2, 6)</td>\n",
       "      <td>11</td>\n",
       "    </tr>\n",
       "    <tr>\n",
       "      <th>3</th>\n",
       "      <td>(5, 6, 4)</td>\n",
       "      <td>(1, 3, 2)</td>\n",
       "      <td>(4, 6, 3)</td>\n",
       "      <td>(6, 5, 2)</td>\n",
       "      <td>(1, 3, 4)</td>\n",
       "      <td>(1, 5, 2)</td>\n",
       "      <td>(5, 1, 4)</td>\n",
       "      <td>(2, 6, 3)</td>\n",
       "      <td>9</td>\n",
       "    </tr>\n",
       "    <tr>\n",
       "      <th>4</th>\n",
       "      <td>(5, 6, 4)</td>\n",
       "      <td>(3, 1, 4)</td>\n",
       "      <td>(1, 2, 5)</td>\n",
       "      <td>(6, 2, 3)</td>\n",
       "      <td>(5, 1, 4)</td>\n",
       "      <td>(6, 4, 3)</td>\n",
       "      <td>(5, 6, 2)</td>\n",
       "      <td>(1, 2, 3)</td>\n",
       "      <td>12</td>\n",
       "    </tr>\n",
       "    <tr>\n",
       "      <th>...</th>\n",
       "      <td>...</td>\n",
       "      <td>...</td>\n",
       "      <td>...</td>\n",
       "      <td>...</td>\n",
       "      <td>...</td>\n",
       "      <td>...</td>\n",
       "      <td>...</td>\n",
       "      <td>...</td>\n",
       "      <td>...</td>\n",
       "    </tr>\n",
       "    <tr>\n",
       "      <th>1837074</th>\n",
       "      <td>(5, 6, 4)</td>\n",
       "      <td>(3, 1, 4)</td>\n",
       "      <td>(3, 2, 1)</td>\n",
       "      <td>(4, 1, 5)</td>\n",
       "      <td>(3, 6, 4)</td>\n",
       "      <td>(5, 2, 1)</td>\n",
       "      <td>(2, 6, 3)</td>\n",
       "      <td>(5, 6, 2)</td>\n",
       "      <td>11</td>\n",
       "    </tr>\n",
       "    <tr>\n",
       "      <th>1837075</th>\n",
       "      <td>(5, 6, 4)</td>\n",
       "      <td>(4, 6, 3)</td>\n",
       "      <td>(3, 6, 2)</td>\n",
       "      <td>(4, 3, 1)</td>\n",
       "      <td>(5, 1, 4)</td>\n",
       "      <td>(1, 2, 3)</td>\n",
       "      <td>(2, 1, 5)</td>\n",
       "      <td>(6, 2, 5)</td>\n",
       "      <td>9</td>\n",
       "    </tr>\n",
       "    <tr>\n",
       "      <th>1837076</th>\n",
       "      <td>(5, 6, 4)</td>\n",
       "      <td>(4, 1, 5)</td>\n",
       "      <td>(3, 1, 4)</td>\n",
       "      <td>(6, 3, 4)</td>\n",
       "      <td>(2, 5, 6)</td>\n",
       "      <td>(2, 3, 1)</td>\n",
       "      <td>(2, 6, 3)</td>\n",
       "      <td>(2, 1, 5)</td>\n",
       "      <td>12</td>\n",
       "    </tr>\n",
       "    <tr>\n",
       "      <th>1837077</th>\n",
       "      <td>(5, 6, 4)</td>\n",
       "      <td>(3, 6, 2)</td>\n",
       "      <td>(5, 4, 1)</td>\n",
       "      <td>(6, 3, 4)</td>\n",
       "      <td>(1, 2, 3)</td>\n",
       "      <td>(2, 5, 6)</td>\n",
       "      <td>(1, 3, 4)</td>\n",
       "      <td>(5, 2, 1)</td>\n",
       "      <td>11</td>\n",
       "    </tr>\n",
       "    <tr>\n",
       "      <th>1837078</th>\n",
       "      <td>(5, 6, 4)</td>\n",
       "      <td>(5, 2, 6)</td>\n",
       "      <td>(4, 1, 5)</td>\n",
       "      <td>(5, 1, 2)</td>\n",
       "      <td>(2, 6, 3)</td>\n",
       "      <td>(4, 3, 6)</td>\n",
       "      <td>(3, 4, 1)</td>\n",
       "      <td>(1, 2, 3)</td>\n",
       "      <td>11</td>\n",
       "    </tr>\n",
       "  </tbody>\n",
       "</table>\n",
       "<p>1837079 rows × 9 columns</p>\n",
       "</div>"
      ],
      "text/plain": [
       "             coin1      coin2      coin3      coin4      coin5      coin6  \\\n",
       "0        (5, 6, 4)  (2, 3, 6)  (1, 3, 2)  (3, 1, 4)  (1, 5, 2)  (1, 4, 5)   \n",
       "1        (5, 6, 4)  (2, 3, 6)  (2, 5, 1)  (1, 5, 4)  (1, 3, 4)  (3, 6, 4)   \n",
       "2        (5, 6, 4)  (1, 2, 5)  (3, 4, 6)  (4, 3, 1)  (2, 3, 1)  (4, 5, 1)   \n",
       "3        (5, 6, 4)  (1, 3, 2)  (4, 6, 3)  (6, 5, 2)  (1, 3, 4)  (1, 5, 2)   \n",
       "4        (5, 6, 4)  (3, 1, 4)  (1, 2, 5)  (6, 2, 3)  (5, 1, 4)  (6, 4, 3)   \n",
       "...            ...        ...        ...        ...        ...        ...   \n",
       "1837074  (5, 6, 4)  (3, 1, 4)  (3, 2, 1)  (4, 1, 5)  (3, 6, 4)  (5, 2, 1)   \n",
       "1837075  (5, 6, 4)  (4, 6, 3)  (3, 6, 2)  (4, 3, 1)  (5, 1, 4)  (1, 2, 3)   \n",
       "1837076  (5, 6, 4)  (4, 1, 5)  (3, 1, 4)  (6, 3, 4)  (2, 5, 6)  (2, 3, 1)   \n",
       "1837077  (5, 6, 4)  (3, 6, 2)  (5, 4, 1)  (6, 3, 4)  (1, 2, 3)  (2, 5, 6)   \n",
       "1837078  (5, 6, 4)  (5, 2, 6)  (4, 1, 5)  (5, 1, 2)  (2, 6, 3)  (4, 3, 6)   \n",
       "\n",
       "             coin7      coin8  distance  \n",
       "0        (3, 6, 4)  (6, 2, 5)        11  \n",
       "1        (2, 3, 1)  (2, 5, 6)        11  \n",
       "2        (2, 5, 6)  (3, 2, 6)        11  \n",
       "3        (5, 1, 4)  (2, 6, 3)         9  \n",
       "4        (5, 6, 2)  (1, 2, 3)        12  \n",
       "...            ...        ...       ...  \n",
       "1837074  (2, 6, 3)  (5, 6, 2)        11  \n",
       "1837075  (2, 1, 5)  (6, 2, 5)         9  \n",
       "1837076  (2, 6, 3)  (2, 1, 5)        12  \n",
       "1837077  (1, 3, 4)  (5, 2, 1)        11  \n",
       "1837078  (3, 4, 1)  (1, 2, 3)        11  \n",
       "\n",
       "[1837079 rows x 9 columns]"
      ]
     },
     "execution_count": 13,
     "metadata": {},
     "output_type": "execute_result"
    }
   ],
   "source": [
    "data_c"
   ]
  },
  {
   "cell_type": "code",
   "execution_count": 14,
   "id": "elect-timing",
   "metadata": {},
   "outputs": [],
   "source": [
    "# Fonction qui permet de coder nos tuples en prenant compte l'orientation ie l'ordre dans le tuple\n",
    "def transformer_ao(t):\n",
    "    s=t[0]*t[1]*t[2]*100\n",
    "    return s+(t[0]+t[1]*2+t[2])\n",
    "# On l'applique à data \n",
    "X_ao=pd.DataFrame()\n",
    "X_ao=X_c.applymap(transformer_ao)\n"
   ]
  },
  {
   "cell_type": "code",
   "execution_count": 15,
   "id": "honest-legend",
   "metadata": {},
   "outputs": [
    {
     "data": {
      "text/plain": [
       "1837078"
      ]
     },
     "execution_count": 15,
     "metadata": {},
     "output_type": "execute_result"
    }
   ],
   "source": [
    "# On enleve coin 1 car se repete \n",
    "X_ao['coin1'].duplicated().sum()"
   ]
  },
  {
   "cell_type": "code",
   "execution_count": 16,
   "id": "approximate-georgia",
   "metadata": {},
   "outputs": [],
   "source": [
    "X_ao=X_ao.drop(['coin1'],axis=1)"
   ]
  },
  {
   "cell_type": "code",
   "execution_count": 17,
   "id": "given-butler",
   "metadata": {},
   "outputs": [
    {
     "data": {
      "text/html": [
       "<div>\n",
       "<style scoped>\n",
       "    .dataframe tbody tr th:only-of-type {\n",
       "        vertical-align: middle;\n",
       "    }\n",
       "\n",
       "    .dataframe tbody tr th {\n",
       "        vertical-align: top;\n",
       "    }\n",
       "\n",
       "    .dataframe thead th {\n",
       "        text-align: right;\n",
       "    }\n",
       "</style>\n",
       "<table border=\"1\" class=\"dataframe\">\n",
       "  <thead>\n",
       "    <tr style=\"text-align: right;\">\n",
       "      <th></th>\n",
       "      <th>coin2</th>\n",
       "      <th>coin3</th>\n",
       "      <th>coin4</th>\n",
       "      <th>coin5</th>\n",
       "      <th>coin6</th>\n",
       "      <th>coin7</th>\n",
       "      <th>coin8</th>\n",
       "    </tr>\n",
       "  </thead>\n",
       "  <tbody>\n",
       "    <tr>\n",
       "      <th>0</th>\n",
       "      <td>3614</td>\n",
       "      <td>609</td>\n",
       "      <td>1209</td>\n",
       "      <td>1013</td>\n",
       "      <td>2014</td>\n",
       "      <td>7219</td>\n",
       "      <td>6015</td>\n",
       "    </tr>\n",
       "    <tr>\n",
       "      <th>1</th>\n",
       "      <td>3614</td>\n",
       "      <td>1013</td>\n",
       "      <td>2015</td>\n",
       "      <td>1211</td>\n",
       "      <td>7219</td>\n",
       "      <td>609</td>\n",
       "      <td>6018</td>\n",
       "    </tr>\n",
       "    <tr>\n",
       "      <th>2</th>\n",
       "      <td>1010</td>\n",
       "      <td>7217</td>\n",
       "      <td>1211</td>\n",
       "      <td>609</td>\n",
       "      <td>2015</td>\n",
       "      <td>6018</td>\n",
       "      <td>3613</td>\n",
       "    </tr>\n",
       "    <tr>\n",
       "      <th>3</th>\n",
       "      <td>609</td>\n",
       "      <td>7219</td>\n",
       "      <td>6018</td>\n",
       "      <td>1211</td>\n",
       "      <td>1013</td>\n",
       "      <td>2011</td>\n",
       "      <td>3617</td>\n",
       "    </tr>\n",
       "    <tr>\n",
       "      <th>4</th>\n",
       "      <td>1209</td>\n",
       "      <td>1010</td>\n",
       "      <td>3613</td>\n",
       "      <td>2011</td>\n",
       "      <td>7217</td>\n",
       "      <td>6019</td>\n",
       "      <td>608</td>\n",
       "    </tr>\n",
       "    <tr>\n",
       "      <th>...</th>\n",
       "      <td>...</td>\n",
       "      <td>...</td>\n",
       "      <td>...</td>\n",
       "      <td>...</td>\n",
       "      <td>...</td>\n",
       "      <td>...</td>\n",
       "      <td>...</td>\n",
       "    </tr>\n",
       "    <tr>\n",
       "      <th>1837074</th>\n",
       "      <td>1209</td>\n",
       "      <td>608</td>\n",
       "      <td>2011</td>\n",
       "      <td>7219</td>\n",
       "      <td>1010</td>\n",
       "      <td>3617</td>\n",
       "      <td>6019</td>\n",
       "    </tr>\n",
       "    <tr>\n",
       "      <th>1837075</th>\n",
       "      <td>7219</td>\n",
       "      <td>3617</td>\n",
       "      <td>1211</td>\n",
       "      <td>2011</td>\n",
       "      <td>608</td>\n",
       "      <td>1009</td>\n",
       "      <td>6015</td>\n",
       "    </tr>\n",
       "    <tr>\n",
       "      <th>1837076</th>\n",
       "      <td>2011</td>\n",
       "      <td>1209</td>\n",
       "      <td>7216</td>\n",
       "      <td>6018</td>\n",
       "      <td>609</td>\n",
       "      <td>3617</td>\n",
       "      <td>1009</td>\n",
       "    </tr>\n",
       "    <tr>\n",
       "      <th>1837077</th>\n",
       "      <td>3617</td>\n",
       "      <td>2014</td>\n",
       "      <td>7216</td>\n",
       "      <td>608</td>\n",
       "      <td>6018</td>\n",
       "      <td>1211</td>\n",
       "      <td>1010</td>\n",
       "    </tr>\n",
       "    <tr>\n",
       "      <th>1837078</th>\n",
       "      <td>6015</td>\n",
       "      <td>2011</td>\n",
       "      <td>1009</td>\n",
       "      <td>3617</td>\n",
       "      <td>7216</td>\n",
       "      <td>1212</td>\n",
       "      <td>608</td>\n",
       "    </tr>\n",
       "  </tbody>\n",
       "</table>\n",
       "<p>1837079 rows × 7 columns</p>\n",
       "</div>"
      ],
      "text/plain": [
       "         coin2  coin3  coin4  coin5  coin6  coin7  coin8\n",
       "0         3614    609   1209   1013   2014   7219   6015\n",
       "1         3614   1013   2015   1211   7219    609   6018\n",
       "2         1010   7217   1211    609   2015   6018   3613\n",
       "3          609   7219   6018   1211   1013   2011   3617\n",
       "4         1209   1010   3613   2011   7217   6019    608\n",
       "...        ...    ...    ...    ...    ...    ...    ...\n",
       "1837074   1209    608   2011   7219   1010   3617   6019\n",
       "1837075   7219   3617   1211   2011    608   1009   6015\n",
       "1837076   2011   1209   7216   6018    609   3617   1009\n",
       "1837077   3617   2014   7216    608   6018   1211   1010\n",
       "1837078   6015   2011   1009   3617   7216   1212    608\n",
       "\n",
       "[1837079 rows x 7 columns]"
      ]
     },
     "execution_count": 17,
     "metadata": {},
     "output_type": "execute_result"
    }
   ],
   "source": [
    "X_ao"
   ]
  },
  {
   "cell_type": "code",
   "execution_count": 18,
   "id": "developing-bailey",
   "metadata": {},
   "outputs": [
    {
     "data": {
      "text/plain": [
       "0"
      ]
     },
     "execution_count": 18,
     "metadata": {},
     "output_type": "execute_result"
    }
   ],
   "source": [
    "# Pas de doublon entre nos differentes ligne on a donc gardé l'information sur l'orientation\n",
    "X_ao.duplicated().sum()"
   ]
  },
  {
   "cell_type": "code",
   "execution_count": 19,
   "id": "marine-richards",
   "metadata": {},
   "outputs": [],
   "source": [
    "# Fonction qui permet de coder nos tuples sans prendre compte l'orientation mais on perd de l'information\n",
    "def transformer_so(t):\n",
    "    return t[0]*t[1]*t[2]\n",
    "# On l applique à data \n",
    "X_so=pd.DataFrame()\n",
    "X_so=X_c.applymap(transformer_so)"
   ]
  },
  {
   "cell_type": "code",
   "execution_count": 20,
   "id": "careful-physics",
   "metadata": {},
   "outputs": [
    {
     "data": {
      "text/plain": [
       "0          False\n",
       "1          False\n",
       "2          False\n",
       "3          False\n",
       "4          False\n",
       "           ...  \n",
       "1837074     True\n",
       "1837075     True\n",
       "1837076     True\n",
       "1837077     True\n",
       "1837078     True\n",
       "Length: 1837079, dtype: bool"
      ]
     },
     "execution_count": 20,
     "metadata": {},
     "output_type": "execute_result"
    }
   ],
   "source": [
    "# On enleve coin 1 car se repete \n",
    "X_so.duplicated()"
   ]
  },
  {
   "cell_type": "code",
   "execution_count": 21,
   "id": "alike-virtue",
   "metadata": {},
   "outputs": [],
   "source": [
    "X_so=X_so.drop(['coin1'],axis=1)"
   ]
  },
  {
   "cell_type": "code",
   "execution_count": 22,
   "id": "happy-lemon",
   "metadata": {},
   "outputs": [
    {
     "data": {
      "text/html": [
       "<div>\n",
       "<style scoped>\n",
       "    .dataframe tbody tr th:only-of-type {\n",
       "        vertical-align: middle;\n",
       "    }\n",
       "\n",
       "    .dataframe tbody tr th {\n",
       "        vertical-align: top;\n",
       "    }\n",
       "\n",
       "    .dataframe thead th {\n",
       "        text-align: right;\n",
       "    }\n",
       "</style>\n",
       "<table border=\"1\" class=\"dataframe\">\n",
       "  <thead>\n",
       "    <tr style=\"text-align: right;\">\n",
       "      <th></th>\n",
       "      <th>coin2</th>\n",
       "      <th>coin3</th>\n",
       "      <th>coin4</th>\n",
       "      <th>coin5</th>\n",
       "      <th>coin6</th>\n",
       "      <th>coin7</th>\n",
       "      <th>coin8</th>\n",
       "      <th>distance</th>\n",
       "    </tr>\n",
       "  </thead>\n",
       "  <tbody>\n",
       "    <tr>\n",
       "      <th>42</th>\n",
       "      <td>72</td>\n",
       "      <td>36</td>\n",
       "      <td>60</td>\n",
       "      <td>12</td>\n",
       "      <td>20</td>\n",
       "      <td>10</td>\n",
       "      <td>6</td>\n",
       "      <td>12</td>\n",
       "    </tr>\n",
       "    <tr>\n",
       "      <th>104</th>\n",
       "      <td>36</td>\n",
       "      <td>6</td>\n",
       "      <td>60</td>\n",
       "      <td>20</td>\n",
       "      <td>72</td>\n",
       "      <td>12</td>\n",
       "      <td>10</td>\n",
       "      <td>11</td>\n",
       "    </tr>\n",
       "    <tr>\n",
       "      <th>143</th>\n",
       "      <td>20</td>\n",
       "      <td>6</td>\n",
       "      <td>72</td>\n",
       "      <td>12</td>\n",
       "      <td>36</td>\n",
       "      <td>60</td>\n",
       "      <td>10</td>\n",
       "      <td>11</td>\n",
       "    </tr>\n",
       "    <tr>\n",
       "      <th>178</th>\n",
       "      <td>12</td>\n",
       "      <td>6</td>\n",
       "      <td>36</td>\n",
       "      <td>60</td>\n",
       "      <td>20</td>\n",
       "      <td>72</td>\n",
       "      <td>10</td>\n",
       "      <td>7</td>\n",
       "    </tr>\n",
       "    <tr>\n",
       "      <th>230</th>\n",
       "      <td>72</td>\n",
       "      <td>36</td>\n",
       "      <td>12</td>\n",
       "      <td>60</td>\n",
       "      <td>20</td>\n",
       "      <td>6</td>\n",
       "      <td>10</td>\n",
       "      <td>10</td>\n",
       "    </tr>\n",
       "    <tr>\n",
       "      <th>...</th>\n",
       "      <td>...</td>\n",
       "      <td>...</td>\n",
       "      <td>...</td>\n",
       "      <td>...</td>\n",
       "      <td>...</td>\n",
       "      <td>...</td>\n",
       "      <td>...</td>\n",
       "      <td>...</td>\n",
       "    </tr>\n",
       "    <tr>\n",
       "      <th>1837074</th>\n",
       "      <td>12</td>\n",
       "      <td>6</td>\n",
       "      <td>20</td>\n",
       "      <td>72</td>\n",
       "      <td>10</td>\n",
       "      <td>36</td>\n",
       "      <td>60</td>\n",
       "      <td>11</td>\n",
       "    </tr>\n",
       "    <tr>\n",
       "      <th>1837075</th>\n",
       "      <td>72</td>\n",
       "      <td>36</td>\n",
       "      <td>12</td>\n",
       "      <td>20</td>\n",
       "      <td>6</td>\n",
       "      <td>10</td>\n",
       "      <td>60</td>\n",
       "      <td>9</td>\n",
       "    </tr>\n",
       "    <tr>\n",
       "      <th>1837076</th>\n",
       "      <td>20</td>\n",
       "      <td>12</td>\n",
       "      <td>72</td>\n",
       "      <td>60</td>\n",
       "      <td>6</td>\n",
       "      <td>36</td>\n",
       "      <td>10</td>\n",
       "      <td>12</td>\n",
       "    </tr>\n",
       "    <tr>\n",
       "      <th>1837077</th>\n",
       "      <td>36</td>\n",
       "      <td>20</td>\n",
       "      <td>72</td>\n",
       "      <td>6</td>\n",
       "      <td>60</td>\n",
       "      <td>12</td>\n",
       "      <td>10</td>\n",
       "      <td>11</td>\n",
       "    </tr>\n",
       "    <tr>\n",
       "      <th>1837078</th>\n",
       "      <td>60</td>\n",
       "      <td>20</td>\n",
       "      <td>10</td>\n",
       "      <td>36</td>\n",
       "      <td>72</td>\n",
       "      <td>12</td>\n",
       "      <td>6</td>\n",
       "      <td>11</td>\n",
       "    </tr>\n",
       "  </tbody>\n",
       "</table>\n",
       "<p>1816260 rows × 8 columns</p>\n",
       "</div>"
      ],
      "text/plain": [
       "         coin2  coin3  coin4  coin5  coin6  coin7  coin8  distance\n",
       "42          72     36     60     12     20     10      6        12\n",
       "104         36      6     60     20     72     12     10        11\n",
       "143         20      6     72     12     36     60     10        11\n",
       "178         12      6     36     60     20     72     10         7\n",
       "230         72     36     12     60     20      6     10        10\n",
       "...        ...    ...    ...    ...    ...    ...    ...       ...\n",
       "1837074     12      6     20     72     10     36     60        11\n",
       "1837075     72     36     12     20      6     10     60         9\n",
       "1837076     20     12     72     60      6     36     10        12\n",
       "1837077     36     20     72      6     60     12     10        11\n",
       "1837078     60     20     10     36     72     12      6        11\n",
       "\n",
       "[1816260 rows x 8 columns]"
      ]
     },
     "execution_count": 22,
     "metadata": {},
     "output_type": "execute_result"
    }
   ],
   "source": [
    "# Doublon entre nos differentes ligne car on a perdu de l'information sur l'orientation\n",
    "# ATTENTION il faut laisser ses doublons car il rajoute du poid à nos y, et donc il faut laisser \n",
    "# pour une meilleur prédiction, on peut cependant rajouter ce poid sous forme de colonnes  en tenant compte des \n",
    "# y, mais on le fait pas ici.\n",
    "\n",
    "tmp=X_so.copy()\n",
    "tmp['distance']=y\n",
    "tmp[tmp.duplicated()]"
   ]
  },
  {
   "cell_type": "code",
   "execution_count": 23,
   "id": "subtle-timer",
   "metadata": {},
   "outputs": [
    {
     "data": {
      "text/html": [
       "<div>\n",
       "<style scoped>\n",
       "    .dataframe tbody tr th:only-of-type {\n",
       "        vertical-align: middle;\n",
       "    }\n",
       "\n",
       "    .dataframe tbody tr th {\n",
       "        vertical-align: top;\n",
       "    }\n",
       "\n",
       "    .dataframe thead th {\n",
       "        text-align: right;\n",
       "    }\n",
       "</style>\n",
       "<table border=\"1\" class=\"dataframe\">\n",
       "  <thead>\n",
       "    <tr style=\"text-align: right;\">\n",
       "      <th></th>\n",
       "      <th>coin2</th>\n",
       "      <th>coin3</th>\n",
       "      <th>coin4</th>\n",
       "      <th>coin5</th>\n",
       "      <th>coin6</th>\n",
       "      <th>coin7</th>\n",
       "      <th>coin8</th>\n",
       "    </tr>\n",
       "  </thead>\n",
       "  <tbody>\n",
       "    <tr>\n",
       "      <th>0</th>\n",
       "      <td>36</td>\n",
       "      <td>6</td>\n",
       "      <td>12</td>\n",
       "      <td>10</td>\n",
       "      <td>20</td>\n",
       "      <td>72</td>\n",
       "      <td>60</td>\n",
       "    </tr>\n",
       "    <tr>\n",
       "      <th>1</th>\n",
       "      <td>36</td>\n",
       "      <td>10</td>\n",
       "      <td>20</td>\n",
       "      <td>12</td>\n",
       "      <td>72</td>\n",
       "      <td>6</td>\n",
       "      <td>60</td>\n",
       "    </tr>\n",
       "    <tr>\n",
       "      <th>2</th>\n",
       "      <td>10</td>\n",
       "      <td>72</td>\n",
       "      <td>12</td>\n",
       "      <td>6</td>\n",
       "      <td>20</td>\n",
       "      <td>60</td>\n",
       "      <td>36</td>\n",
       "    </tr>\n",
       "    <tr>\n",
       "      <th>3</th>\n",
       "      <td>6</td>\n",
       "      <td>72</td>\n",
       "      <td>60</td>\n",
       "      <td>12</td>\n",
       "      <td>10</td>\n",
       "      <td>20</td>\n",
       "      <td>36</td>\n",
       "    </tr>\n",
       "    <tr>\n",
       "      <th>4</th>\n",
       "      <td>12</td>\n",
       "      <td>10</td>\n",
       "      <td>36</td>\n",
       "      <td>20</td>\n",
       "      <td>72</td>\n",
       "      <td>60</td>\n",
       "      <td>6</td>\n",
       "    </tr>\n",
       "    <tr>\n",
       "      <th>...</th>\n",
       "      <td>...</td>\n",
       "      <td>...</td>\n",
       "      <td>...</td>\n",
       "      <td>...</td>\n",
       "      <td>...</td>\n",
       "      <td>...</td>\n",
       "      <td>...</td>\n",
       "    </tr>\n",
       "    <tr>\n",
       "      <th>1837074</th>\n",
       "      <td>12</td>\n",
       "      <td>6</td>\n",
       "      <td>20</td>\n",
       "      <td>72</td>\n",
       "      <td>10</td>\n",
       "      <td>36</td>\n",
       "      <td>60</td>\n",
       "    </tr>\n",
       "    <tr>\n",
       "      <th>1837075</th>\n",
       "      <td>72</td>\n",
       "      <td>36</td>\n",
       "      <td>12</td>\n",
       "      <td>20</td>\n",
       "      <td>6</td>\n",
       "      <td>10</td>\n",
       "      <td>60</td>\n",
       "    </tr>\n",
       "    <tr>\n",
       "      <th>1837076</th>\n",
       "      <td>20</td>\n",
       "      <td>12</td>\n",
       "      <td>72</td>\n",
       "      <td>60</td>\n",
       "      <td>6</td>\n",
       "      <td>36</td>\n",
       "      <td>10</td>\n",
       "    </tr>\n",
       "    <tr>\n",
       "      <th>1837077</th>\n",
       "      <td>36</td>\n",
       "      <td>20</td>\n",
       "      <td>72</td>\n",
       "      <td>6</td>\n",
       "      <td>60</td>\n",
       "      <td>12</td>\n",
       "      <td>10</td>\n",
       "    </tr>\n",
       "    <tr>\n",
       "      <th>1837078</th>\n",
       "      <td>60</td>\n",
       "      <td>20</td>\n",
       "      <td>10</td>\n",
       "      <td>36</td>\n",
       "      <td>72</td>\n",
       "      <td>12</td>\n",
       "      <td>6</td>\n",
       "    </tr>\n",
       "  </tbody>\n",
       "</table>\n",
       "<p>1837079 rows × 7 columns</p>\n",
       "</div>"
      ],
      "text/plain": [
       "         coin2  coin3  coin4  coin5  coin6  coin7  coin8\n",
       "0           36      6     12     10     20     72     60\n",
       "1           36     10     20     12     72      6     60\n",
       "2           10     72     12      6     20     60     36\n",
       "3            6     72     60     12     10     20     36\n",
       "4           12     10     36     20     72     60      6\n",
       "...        ...    ...    ...    ...    ...    ...    ...\n",
       "1837074     12      6     20     72     10     36     60\n",
       "1837075     72     36     12     20      6     10     60\n",
       "1837076     20     12     72     60      6     36     10\n",
       "1837077     36     20     72      6     60     12     10\n",
       "1837078     60     20     10     36     72     12      6\n",
       "\n",
       "[1837079 rows x 7 columns]"
      ]
     },
     "execution_count": 23,
     "metadata": {},
     "output_type": "execute_result"
    }
   ],
   "source": [
    "X_so"
   ]
  },
  {
   "cell_type": "markdown",
   "id": "consistent-style",
   "metadata": {},
   "source": [
    "## Random Forest"
   ]
  },
  {
   "cell_type": "code",
   "execution_count": 115,
   "id": "frequent-regard",
   "metadata": {},
   "outputs": [],
   "source": [
    "X_so_F2 = X_so.copy()"
   ]
  },
  {
   "cell_type": "code",
   "execution_count": 116,
   "id": "detailed-making",
   "metadata": {},
   "outputs": [],
   "source": [
    "\n",
    "X_so_F2['S']=X_F1[['Face1','Face2','Face3','Face4','Face5','Face6']].apply(sum,axis=1)"
   ]
  },
  {
   "cell_type": "code",
   "execution_count": 119,
   "id": "satisfactory-transcript",
   "metadata": {},
   "outputs": [
    {
     "data": {
      "text/plain": [
       "0    1826070\n",
       "1      10388\n",
       "2        621\n",
       "Name: S, dtype: int64"
      ]
     },
     "execution_count": 119,
     "metadata": {},
     "output_type": "execute_result"
    }
   ],
   "source": [
    "X_so_F2['S'].value_counts()"
   ]
  },
  {
   "cell_type": "code",
   "execution_count": 120,
   "id": "conceptual-shooting",
   "metadata": {},
   "outputs": [],
   "source": [
    "#X_train_ao, X_test_ao, y_train_ao, y_test_ao = train_test_split(X_ao.values, y['distance'].values, test_size=0.5,shuffle=True,random_state=1) \n",
    "X_train_so, X_test_so, y_train_so, y_test_so = train_test_split(X_so_F2.values, y['distance'].values, test_size=0.5,shuffle=True,random_state=1) "
   ]
  },
  {
   "cell_type": "code",
   "execution_count": 121,
   "id": "divine-timber",
   "metadata": {},
   "outputs": [],
   "source": [
    "#rdmf_ao = RandomForestClassifier(n_jobs=32,random_state=6)\n",
    "rdmf_so = RandomForestClassifier(n_jobs=32,random_state=6,class_weight='balanced_subsample')"
   ]
  },
  {
   "cell_type": "code",
   "execution_count": 122,
   "id": "burning-motivation",
   "metadata": {},
   "outputs": [
    {
     "data": {
      "text/plain": [
       "RandomForestClassifier(class_weight='balanced_subsample', n_jobs=32,\n",
       "                       random_state=6)"
      ]
     },
     "execution_count": 122,
     "metadata": {},
     "output_type": "execute_result"
    }
   ],
   "source": [
    "#rdmf_ao.fit(X_train_ao,y_train_ao)\n",
    "rdmf_so.fit(X_train_so,y_train_so)"
   ]
  },
  {
   "cell_type": "code",
   "execution_count": 123,
   "id": "employed-ancient",
   "metadata": {},
   "outputs": [],
   "source": [
    "#y_pred_train_ao=rdmf_ao.predict(X_train_ao)\n",
    "y_pred_train_so=rdmf_so.predict(X_train_so)"
   ]
  },
  {
   "cell_type": "code",
   "execution_count": 124,
   "id": "australian-knowing",
   "metadata": {},
   "outputs": [
    {
     "name": "stdout",
     "output_type": "stream",
     "text": [
      "2.6272918188558134\n"
     ]
    }
   ],
   "source": [
    "#print(mean_absolute_error(y_pred_train_ao,y_train_ao))\n",
    "print(mean_absolute_error(y_pred_train_so,y_train_so))"
   ]
  },
  {
   "cell_type": "code",
   "execution_count": 125,
   "id": "meaning-frederick",
   "metadata": {},
   "outputs": [],
   "source": [
    "#y_pred_test_ao=rdmf_ao.predict(X_test_ao)\n",
    "y_pred_test_so=rdmf_so.predict(X_test_so)"
   ]
  },
  {
   "cell_type": "code",
   "execution_count": 126,
   "id": "loving-athletics",
   "metadata": {},
   "outputs": [
    {
     "name": "stdout",
     "output_type": "stream",
     "text": [
      "2.6665469114028784\n"
     ]
    }
   ],
   "source": [
    "#print(mean_absolute_error(y_pred_test_ao,y_test_ao))\n",
    "print(mean_absolute_error(y_pred_test_so,y_test_so))"
   ]
  },
  {
   "cell_type": "code",
   "execution_count": null,
   "id": "meaning-brooklyn",
   "metadata": {},
   "outputs": [],
   "source": [
    "0.7915714067977443\n"
   ]
  },
  {
   "cell_type": "code",
   "execution_count": null,
   "id": "romance-clause",
   "metadata": {},
   "outputs": [],
   "source": [
    "# On remarque qu'avec orientation on a un overfitting enorme et un moin bien score au test que sans  orientation\n",
    "# On garde donc la prediction sans orientation qu'on va appliquer à nos donnés finales\n"
   ]
  },
  {
   "cell_type": "markdown",
   "id": "developmental-decimal",
   "metadata": {},
   "source": [
    "## Appplication finale"
   ]
  },
  {
   "cell_type": "code",
   "execution_count": null,
   "id": "wooden-oracle",
   "metadata": {},
   "outputs": [],
   "source": [
    "# Donc finalement le meilleur modele qui correspond au transformation sans orientation"
   ]
  },
  {
   "cell_type": "code",
   "execution_count": null,
   "id": "adverse-persian",
   "metadata": {},
   "outputs": [],
   "source": [
    "# On applique les memes transformations au data_test"
   ]
  },
  {
   "cell_type": "code",
   "execution_count": 87,
   "id": "scientific-commissioner",
   "metadata": {},
   "outputs": [],
   "source": [
    "data_test=data_test.applymap(transformer_so)\n",
    "data_test=data_test.drop(['coin1'],axis=1)"
   ]
  },
  {
   "cell_type": "code",
   "execution_count": 93,
   "id": "cooked-space",
   "metadata": {},
   "outputs": [
    {
     "data": {
      "text/plain": [
       "RandomForestClassifier(n_jobs=32, random_state=6)"
      ]
     },
     "execution_count": 93,
     "metadata": {},
     "output_type": "execute_result"
    }
   ],
   "source": [
    "rdmf=RandomForestClassifier(n_jobs=32,random_state=6)\n",
    "rdmf.fit(X_so,y)"
   ]
  },
  {
   "cell_type": "code",
   "execution_count": 96,
   "id": "exempt-elite",
   "metadata": {},
   "outputs": [],
   "source": [
    "y_pred_test=rdmf.predict(data_test)"
   ]
  },
  {
   "cell_type": "code",
   "execution_count": 100,
   "id": "available-import",
   "metadata": {},
   "outputs": [
    {
     "data": {
      "text/plain": [
       "11    918540\n",
       "10    665575\n",
       "12    252965\n",
       "dtype: int64"
      ]
     },
     "execution_count": 100,
     "metadata": {},
     "output_type": "execute_result"
    }
   ],
   "source": [
    "# Voci le nombre de prédiction finale \n",
    "pd.DataFrame(y_pred_test).value_counts()"
   ]
  },
  {
   "cell_type": "code",
   "execution_count": 101,
   "id": "british-richardson",
   "metadata": {},
   "outputs": [],
   "source": [
    "# On telecharge nos données\n",
    "finale = pd.DataFrame(y_pred_test)\n",
    "ids = pd.DataFrame(np.arange(1837079,3674159))\n",
    "ids['ID'] = ids\n",
    "finale.index = ids['ID']"
   ]
  },
  {
   "cell_type": "code",
   "execution_count": 103,
   "id": "restricted-mediterranean",
   "metadata": {},
   "outputs": [],
   "source": [
    "finale.to_csv(\"y_test.csv\")"
   ]
  }
 ],
 "metadata": {
  "kernelspec": {
   "display_name": "Python 3",
   "language": "python",
   "name": "python3"
  },
  "language_info": {
   "codemirror_mode": {
    "name": "ipython",
    "version": 3
   },
   "file_extension": ".py",
   "mimetype": "text/x-python",
   "name": "python",
   "nbconvert_exporter": "python",
   "pygments_lexer": "ipython3",
   "version": "3.7.2"
  }
 },
 "nbformat": 4,
 "nbformat_minor": 5
}
