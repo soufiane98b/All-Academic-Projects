{
 "cells": [
  {
   "cell_type": "code",
   "execution_count": 1,
   "id": "07a0331a",
   "metadata": {},
   "outputs": [],
   "source": [
    "import pyedflib \n",
    "import numpy as np \n",
    "import sagemaker.s3 \n",
    "import boto3 \n",
    "import os \n",
    "import pandas as pd \n",
    "import scipy.signal \n",
    "import subprocess"
   ]
  },
  {
   "cell_type": "code",
   "execution_count": 2,
   "id": "fe7c1e68",
   "metadata": {},
   "outputs": [],
   "source": [
    "session = sagemaker.Session()\n",
    "sts_client = session.boto_session.client(\"sts\")\n",
    "role = session.get_caller_identity_arn()\n",
    "if \"role\" in role:\n",
    "    credentials = session.boto_session.get_credentials()\n",
    "    credentials = dict(SessionToken=credentials.token, AccessKeyId=credentials.access_key, SecretAccessKey=credentials.secret_key)\n",
    "else:\n",
    "    sts_client = session.boto_session.client(\"sts\") \n",
    "    assumed_role_object = sts_client.assume_role(\n",
    "        RoleArn=\"arn:aws:iam::789873108456:role/DataScientist\",\n",
    "        RoleSessionName=\"LabelStudioUploadSession\",\n",
    "        DurationSeconds=3600*12\n",
    "    )\n",
    "    credentials = assumed_role_object['Credentials']\n",
    "s3 = boto3.resource(\n",
    "    's3',\n",
    "    aws_access_key_id=credentials['AccessKeyId'],\n",
    "    aws_secret_access_key=credentials['SecretAccessKey'],\n",
    "    aws_session_token=credentials['SessionToken'],\n",
    ")\n",
    "\n"
   ]
  },
  {
   "cell_type": "code",
   "execution_count": 54,
   "id": "a68ec2c4",
   "metadata": {},
   "outputs": [],
   "source": [
    "def createFolder(bucket_nam,directory_nam):\n",
    "    s3 = boto3.client('s3')\n",
    "    bucket_name = bucket_nam\n",
    "    directory_name = directory_nam #it's name of your folders\n",
    "    s3.put_object(Bucket=bucket_name, Key=(directory_name+'/'))"
   ]
  },
  {
   "cell_type": "code",
   "execution_count": 55,
   "id": "d48e78ee",
   "metadata": {},
   "outputs": [],
   "source": [
    "def moveFileInSameBucket(source,target):\n",
    "    '''\n",
    "    source : S3 URI\n",
    "    target : S3 URI\n",
    "    '''\n",
    "    cmd = 'aws s3 mv '+source+' '+target\n",
    "    proc=subprocess.Popen(cmd, shell=True, stdout = subprocess.PIPE) "
   ]
  },
  {
   "cell_type": "code",
   "execution_count": 53,
   "id": "2b5ac9d3",
   "metadata": {},
   "outputs": [],
   "source": [
    "\n",
    "def moveFileInSameBucket(source,target):\n",
    "    '''\n",
    "    source : S3 URI\n",
    "    target : S3 URI\n",
    "    \n",
    "    '''\n",
    "    cmd = 'aws s3 mv '+source+' '+target\n",
    "    proc=subprocess.Popen(cmd, shell=True, stdout = subprocess.PIPE) \n",
    "\n",
    "#cmd='aws s3 mv s3://tmp-datascience-apneal/raf21db/edf_input_nox+apneal/g1_nox+apneal.edf s3://tmp-datascience-apneal/raf21db/edf_input_nox+apneal/g1_nox+apneal/g1_nox+apneal.edf '\n"
   ]
  },
  {
   "cell_type": "code",
   "execution_count": 31,
   "id": "67299350",
   "metadata": {},
   "outputs": [],
   "source": [
    "def downloadDirectoryFroms3(bucketName, remoteDirectoryName):\n",
    "    s3_resource = boto3.resource(\n",
    "    's3',\n",
    "    aws_access_key_id=credentials['AccessKeyId'],\n",
    "    aws_secret_access_key=credentials['SecretAccessKey'],\n",
    "    aws_session_token=credentials['SessionToken'],\n",
    ")\n",
    "    bucket = s3_resource.Bucket(bucketName) \n",
    "    for obj in bucket.objects.filter(Prefix = remoteDirectoryName):\n",
    "        if not os.path.exists(os.path.dirname(obj.key)):\n",
    "            os.makedirs(os.path.dirname(obj.key))\n",
    "        bucket.download_file(obj.key, obj.key) # save to same path"
   ]
  }
 ],
 "metadata": {
  "kernelspec": {
   "display_name": "apneal",
   "language": "python",
   "name": "apneal"
  },
  "language_info": {
   "codemirror_mode": {
    "name": "ipython",
    "version": 3
   },
   "file_extension": ".py",
   "mimetype": "text/x-python",
   "name": "python",
   "nbconvert_exporter": "python",
   "pygments_lexer": "ipython3",
   "version": "3.8.5"
  }
 },
 "nbformat": 4,
 "nbformat_minor": 5
}
